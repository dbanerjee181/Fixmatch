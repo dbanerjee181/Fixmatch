{
  "nbformat": 4,
  "nbformat_minor": 0,
  "metadata": {
    "colab": {
      "provenance": [],
      "gpuType": "T4"
    },
    "kernelspec": {
      "name": "python3",
      "display_name": "Python 3"
    },
    "language_info": {
      "name": "python"
    }
  },
  "cells": [
    {
      "cell_type": "markdown",
      "source": [
        "**Reimagining Fixmatch**\n",
        "\n",
        "---\n",
        "FixMatch is a semi-supervised learning method that leverages a combination of strong augmentations and consistency regularization to improve the performance of image classifiers trained with limited labeled data. It achieves state-of-the-art results on various image classification benchmarks. The code repository is cloned\n"
      ],
      "metadata": {
        "id": "cD2Js15BxJEQ"
      }
    },
    {
      "cell_type": "code",
      "source": [
        "!git clone https://github.com/dbanerjee181/Fixmatch.git"
      ],
      "metadata": {
        "colab": {
          "base_uri": "https://localhost:8080/"
        },
        "id": "oqlZRfSkwuCI",
        "outputId": "7ceef2fa-2d58-4617-f2f4-96d59007fc91"
      },
      "execution_count": 8,
      "outputs": [
        {
          "output_type": "stream",
          "name": "stdout",
          "text": [
            "fatal: destination path 'Fixmatch' already exists and is not an empty directory.\n"
          ]
        }
      ]
    },
    {
      "cell_type": "markdown",
      "source": [
        "Installing the requirements.txt"
      ],
      "metadata": {
        "id": "AI3H6Ek7xDFo"
      }
    },
    {
      "cell_type": "code",
      "source": [
        "!pip install -r /content/Fixmatch/requirements.txt"
      ],
      "metadata": {
        "colab": {
          "base_uri": "https://localhost:8080/"
        },
        "id": "rzjmIc5ZKxN8",
        "outputId": "e9e9b00f-e15e-414b-b474-e31cb9e80f49"
      },
      "execution_count": 10,
      "outputs": [
        {
          "output_type": "stream",
          "name": "stdout",
          "text": [
            "Collecting cudf-cu12@ https://pypi.nvidia.com/cudf-cu12/cudf_cu12-24.10.1-cp310-cp310-manylinux_2_24_x86_64.manylinux_2_28_x86_64.whl (from -r /content/Fixmatch/requirements.txt (line 60))\n",
            "  Downloading https://pypi.nvidia.com/cudf-cu12/cudf_cu12-24.10.1-cp310-cp310-manylinux_2_24_x86_64.manylinux_2_28_x86_64.whl (24.9 MB)\n",
            "\u001b[2K     \u001b[90m━━━━━━━━━━━━━━━━━━━━━━━━━━━━━━━━━━━━━━━━\u001b[0m \u001b[32m24.9/24.9 MB\u001b[0m \u001b[31m28.6 MB/s\u001b[0m eta \u001b[36m0:00:00\u001b[0m\n",
            "\u001b[?25hCollecting en-core-web-sm@ https://github.com/explosion/spacy-models/releases/download/en_core_web_sm-3.7.1/en_core_web_sm-3.7.1-py3-none-any.whl#sha256=86cc141f63942d4b2c5fcee06630fd6f904788d2f0ab005cce45aadb8fb73889 (from -r /content/Fixmatch/requirements.txt (line 91))\n",
            "  Downloading https://github.com/explosion/spacy-models/releases/download/en_core_web_sm-3.7.1/en_core_web_sm-3.7.1-py3-none-any.whl (12.8 MB)\n",
            "\u001b[2K     \u001b[90m━━━━━━━━━━━━━━━━━━━━━━━━━━━━━━━━━━━━━━━━\u001b[0m \u001b[32m12.8/12.8 MB\u001b[0m \u001b[31m44.6 MB/s\u001b[0m eta \u001b[36m0:00:00\u001b[0m\n",
            "\u001b[?25hProcessing /colabtools/dist/google_colab-1.0.0.tar.gz (from -r /content/Fixmatch/requirements.txt (line 151))\n",
            "\u001b[31mERROR: Could not install packages due to an OSError: [Errno 2] No such file or directory: '/colabtools/dist/google_colab-1.0.0.tar.gz'\n",
            "\u001b[0m\u001b[31m\n",
            "\u001b[0m"
          ]
        }
      ]
    },
    {
      "cell_type": "markdown",
      "source": [
        "**Fixmatch test run**\n",
        "\n",
        "\n",
        "This code implements FixMatch, a semi-supervised learning method for image classification. It leverages strong augmentations and consistency regularization to improve performance with limited labeled data.\n",
        "\n",
        "**Key Ideas:**\n",
        "\n",
        "* **Strong & Weak Augmentations:**  Uses significant transformations (like RandAugment, CutOut) for unlabeled images to create diverse examples, and minimal transformations (flips, crops) for labeled and unlabeled images for consistency.\n",
        "* **Consistency:**  Enforces similar predictions from the model for weakly and strongly augmented versions of the same unlabeled image.\n",
        "* **Pseudo-Labeling:**  Uses high-confidence predictions on weakly augmented unlabeled images as pseudo-labels for training on strongly augmented versions.\n",
        "* **Confidence Threshold:**  Only uses pseudo-labels if prediction confidence exceeds a threshold.\n"
      ],
      "metadata": {
        "id": "IapF0nv0xHcv"
      }
    },
    {
      "cell_type": "code",
      "source": [
        "!python /content/Fixmatch/train_modified.py --dataset svhn --num-labeled 1000 --arch wideresnet --batch-size 16 --total-steps 64 --eval-step 16  --lr 0.03 --expand-labels --seed 5 --out results/cifar10_flexmatch@1000.5"
      ],
      "metadata": {
        "colab": {
          "base_uri": "https://localhost:8080/"
        },
        "id": "5QurrcGExzJh",
        "outputId": "e292b1b3-7ab6-4c13-d53a-1f0a4b0d239c"
      },
      "execution_count": 11,
      "outputs": [
        {
          "output_type": "stream",
          "name": "stdout",
          "text": [
            "2024-12-05 09:39:31.205180: E external/local_xla/xla/stream_executor/cuda/cuda_fft.cc:485] Unable to register cuFFT factory: Attempting to register factory for plugin cuFFT when one has already been registered\n",
            "2024-12-05 09:39:31.238394: E external/local_xla/xla/stream_executor/cuda/cuda_dnn.cc:8454] Unable to register cuDNN factory: Attempting to register factory for plugin cuDNN when one has already been registered\n",
            "2024-12-05 09:39:31.247881: E external/local_xla/xla/stream_executor/cuda/cuda_blas.cc:1452] Unable to register cuBLAS factory: Attempting to register factory for plugin cuBLAS when one has already been registered\n",
            "2024-12-05 09:39:31.277615: I tensorflow/core/platform/cpu_feature_guard.cc:210] This TensorFlow binary is optimized to use available CPU instructions in performance-critical operations.\n",
            "To enable the following instructions: AVX2 FMA, in other operations, rebuild TensorFlow with the appropriate compiler flags.\n",
            "2024-12-05 09:39:32.878641: W tensorflow/compiler/tf2tensorrt/utils/py_utils.cc:38] TF-TRT Warning: Could not find TensorRT\n",
            "12/05/2024 09:39:41 - WARNING - __main__ -   Process rank: -1, device: cpu, n_gpu: 0, distributed training: False, 16-bits training: False\n",
            "12/05/2024 09:39:41 - INFO - __main__ -   {'gpu_id': 0, 'num_workers': 4, 'dataset': 'svhn', 'num_labeled': 1000, 'expand_labels': True, 'arch': 'wideresnet', 'total_steps': 64, 'eval_step': 16, 'start_epoch': 0, 'batch_size': 16, 'lr': 0.03, 'warmup': 0, 'wdecay': 0.0005, 'nesterov': True, 'use_ema': True, 'ema_decay': 0.999, 'mu': 7, 'lambda_u': 1, 'T': 1, 'threshold': 0.95, 'out': 'results/cifar10_flexmatch@1000.5', 'resume': '', 'seed': 5, 'amp': False, 'opt_level': 'O1', 'local_rank': -1, 'no_progress': False, 'n_gpu': 0, 'world_size': 1, 'device': device(type='cpu')}\n",
            "Downloading http://ufldl.stanford.edu/housenumbers/train_32x32.mat to ./data/train_32x32.mat\n",
            "100% 182M/182M [00:40<00:00, 4.53MB/s]\n",
            "Downloading http://ufldl.stanford.edu/housenumbers/test_32x32.mat to ./data/test_32x32.mat\n",
            "100% 64.3M/64.3M [00:07<00:00, 8.43MB/s]\n",
            "/usr/local/lib/python3.10/dist-packages/torch/utils/data/dataloader.py:617: UserWarning: This DataLoader will create 4 worker processes in total. Our suggested max number of worker in current system is 2, which is smaller than what this DataLoader is going to create. Please be aware that excessive worker creation might get DataLoader running slow or even freeze, lower the worker number to avoid potential slowness/freeze if necessary.\n",
            "  warnings.warn(\n",
            "12/05/2024 09:40:38 - INFO - models.wideresnet -   Model: WideResNet 28x2\n",
            "12/05/2024 09:40:38 - INFO - __main__ -   Total params: 1.47M\n",
            "12/05/2024 09:40:39 - INFO - __main__ -   ***** Running training *****\n",
            "12/05/2024 09:40:39 - INFO - __main__ -     Task = svhn@1000\n",
            "12/05/2024 09:40:39 - INFO - __main__ -     Num Epochs = 4\n",
            "12/05/2024 09:40:39 - INFO - __main__ -     Batch size per GPU = 16\n",
            "12/05/2024 09:40:39 - INFO - __main__ -     Total train batch size = 16\n",
            "12/05/2024 09:40:39 - INFO - __main__ -     Total optimization steps = 64\n",
            "Train Epoch: 1/   4. Iter:   16/  16. LR: 0.0282. Data: 0.063s. Batch: 8.046s. Loss: 2.8325. Loss_x: 2.8233. Loss_u: 0.0092. Mask: 0.02. Mask_Count: 0.0 : 100% 16/16 [02:08<00:00,  8.02s/it]\n",
            "Test Iter: 1627/1627. Data: 0.006s. Batch: 0.179s. Loss: 2.2901. top1: 19.58. top5: 53.45. : 100% 1627/1627 [04:52<00:00,  5.57it/s]\n",
            "12/05/2024 09:47:40 - INFO - __main__ -   top-1 acc: 19.58\n",
            "12/05/2024 09:47:40 - INFO - __main__ -   top-5 acc: 53.45\n",
            "12/05/2024 09:47:40 - INFO - __main__ -   Best top-1 acc: 19.58\n",
            "12/05/2024 09:47:40 - INFO - __main__ -   Mean top-1 acc: 19.58\n",
            "\n",
            "Train Epoch: 2/   4. Iter:   16/  16. LR: 0.0232. Data: 18.288s. Batch: 26.067s. Loss: 2.4368. Loss_x: 2.4368. Loss_u: 0.0000. Mask: 0.00. Mask_Count: 0.0 : 100% 16/16 [02:04<00:00,  7.79s/it]\n",
            "Test Iter: 1627/1627. Data: 0.005s. Batch: 0.180s. Loss: 2.2848. top1: 19.59. top5: 56.54. : 100% 1627/1627 [04:52<00:00,  5.56it/s]\n",
            "12/05/2024 09:54:37 - INFO - __main__ -   top-1 acc: 19.59\n",
            "12/05/2024 09:54:37 - INFO - __main__ -   top-5 acc: 56.54\n",
            "12/05/2024 09:54:37 - INFO - __main__ -   Best top-1 acc: 19.59\n",
            "12/05/2024 09:54:37 - INFO - __main__ -   Mean top-1 acc: 19.59\n",
            "\n",
            "Train Epoch: 3/   4. Iter:   16/  16. LR: 0.0154. Data: 18.306s. Batch: 26.098s. Loss: 2.4091. Loss_x: 2.4090. Loss_u: 0.0002. Mask: 0.00. Mask_Count: 0.0 : 100% 16/16 [02:04<00:00,  7.81s/it]\n",
            "Test Iter: 1627/1627. Data: 0.005s. Batch: 0.181s. Loss: 2.2825. top1: 19.59. top5: 56.42. : 100% 1627/1627 [04:55<00:00,  5.51it/s]\n",
            "12/05/2024 10:01:37 - INFO - __main__ -   top-1 acc: 19.59\n",
            "12/05/2024 10:01:37 - INFO - __main__ -   top-5 acc: 56.42\n",
            "12/05/2024 10:01:37 - INFO - __main__ -   Best top-1 acc: 19.59\n",
            "12/05/2024 10:01:37 - INFO - __main__ -   Mean top-1 acc: 19.59\n",
            "\n",
            "Train Epoch: 4/   4. Iter:   16/  16. LR: 0.0059. Data: 18.513s. Batch: 26.446s. Loss: 2.3765. Loss_x: 2.3765. Loss_u: 0.0000. Mask: 0.00. Mask_Count: 0.0 : 100% 16/16 [02:07<00:00,  7.98s/it]\n",
            "Test Iter: 1627/1627. Data: 0.006s. Batch: 0.181s. Loss: 2.2811. top1: 19.59. top5: 52.32. : 100% 1627/1627 [04:54<00:00,  5.53it/s]\n",
            "12/05/2024 10:08:39 - INFO - __main__ -   top-1 acc: 19.59\n",
            "12/05/2024 10:08:39 - INFO - __main__ -   top-5 acc: 52.32\n",
            "12/05/2024 10:08:39 - INFO - __main__ -   Best top-1 acc: 19.59\n",
            "12/05/2024 10:08:39 - INFO - __main__ -   Mean top-1 acc: 19.59\n",
            "\n"
          ]
        }
      ]
    },
    {
      "cell_type": "code",
      "source": [
        "!python /content/Fixmatch/train_modified_flexmatch.py --dataset svhn --num-labeled 1000 --arch wideresnet --batch-size 16 --total-steps 64 --eval-step 16  --lr 0.03 --expand-labels --seed 5 --out results/cifar10_flexmatch@1000.5"
      ],
      "metadata": {
        "colab": {
          "base_uri": "https://localhost:8080/"
        },
        "id": "k0T4tzF_2_ex",
        "outputId": "bd9339ba-84cb-450c-e8d9-2fc0c94967e8"
      },
      "execution_count": null,
      "outputs": [
        {
          "output_type": "stream",
          "name": "stdout",
          "text": [
            "2024-11-10 20:43:00.629435: E external/local_xla/xla/stream_executor/cuda/cuda_fft.cc:485] Unable to register cuFFT factory: Attempting to register factory for plugin cuFFT when one has already been registered\n",
            "2024-11-10 20:43:00.664335: E external/local_xla/xla/stream_executor/cuda/cuda_dnn.cc:8454] Unable to register cuDNN factory: Attempting to register factory for plugin cuDNN when one has already been registered\n",
            "2024-11-10 20:43:00.674856: E external/local_xla/xla/stream_executor/cuda/cuda_blas.cc:1452] Unable to register cuBLAS factory: Attempting to register factory for plugin cuBLAS when one has already been registered\n",
            "2024-11-10 20:43:00.700631: I tensorflow/core/platform/cpu_feature_guard.cc:210] This TensorFlow binary is optimized to use available CPU instructions in performance-critical operations.\n",
            "To enable the following instructions: AVX2 FMA, in other operations, rebuild TensorFlow with the appropriate compiler flags.\n",
            "2024-11-10 20:43:02.427072: W tensorflow/compiler/tf2tensorrt/utils/py_utils.cc:38] TF-TRT Warning: Could not find TensorRT\n",
            "11/10/2024 20:43:06 - WARNING - __main__ -   Process rank: -1, device: cpu, n_gpu: 0, distributed training: False, 16-bits training: False\n",
            "11/10/2024 20:43:06 - INFO - __main__ -   {'gpu_id': 0, 'num_workers': 4, 'dataset': 'svhn', 'num_labeled': 1000, 'expand_labels': True, 'arch': 'wideresnet', 'total_steps': 64, 'eval_step': 16, 'start_epoch': 0, 'batch_size': 16, 'lr': 0.03, 'warmup': 0, 'wdecay': 0.0005, 'nesterov': True, 'use_ema': True, 'ema_decay': 0.999, 'mu': 7, 'lambda_u': 1, 'T': 1, 'threshold': 0.95, 'out': 'results/cifar10_flexmatch@1000.5', 'resume': '', 'seed': 5, 'amp': False, 'opt_level': 'O1', 'local_rank': -1, 'no_progress': False, 'n_gpu': 0, 'world_size': 1, 'device': device(type='cpu'), 'thresh_warmup': True}\n",
            "Using downloaded and verified file: ./data/train_32x32.mat\n",
            "Using downloaded and verified file: ./data/test_32x32.mat\n",
            "/usr/local/lib/python3.10/dist-packages/torch/utils/data/dataloader.py:617: UserWarning: This DataLoader will create 4 worker processes in total. Our suggested max number of worker in current system is 2, which is smaller than what this DataLoader is going to create. Please be aware that excessive worker creation might get DataLoader running slow or even freeze, lower the worker number to avoid potential slowness/freeze if necessary.\n",
            "  warnings.warn(\n",
            "11/10/2024 20:43:16 - INFO - models.wideresnet -   Model: WideResNet 28x2\n",
            "11/10/2024 20:43:16 - INFO - __main__ -   Total params: 1.47M\n",
            "11/10/2024 20:43:16 - INFO - __main__ -   ***** Running training *****\n",
            "11/10/2024 20:43:16 - INFO - __main__ -     Task = svhn@1000\n",
            "11/10/2024 20:43:16 - INFO - __main__ -     Num Epochs = 4\n",
            "11/10/2024 20:43:16 - INFO - __main__ -     Batch size per GPU = 16\n",
            "11/10/2024 20:43:16 - INFO - __main__ -     Total train batch size = 16\n",
            "11/10/2024 20:43:16 - INFO - __main__ -     Total optimization steps = 64\n",
            "Train Epoch: 1/   4. Iter:   16/  16. LR: 0.0282. Data: 0.107s. Batch: 8.149s. Loss: 5.1902. Loss_x: 2.8860. Loss_u: 2.3042. Mask: 1.00. Mask_Count: 1.0. : 100% 16/16 [02:09<00:00,  8.12s/it]\n",
            "Test Iter: 1627/1627. Data: 0.005s. Batch: 0.177s. Loss: 2.3136. top1: 7.59. top5: 42.31. : 100% 1627/1627 [04:48<00:00,  5.63it/s]\n",
            "11/10/2024 20:50:15 - INFO - __main__ -   top-1 acc: 7.59\n",
            "11/10/2024 20:50:15 - INFO - __main__ -   top-5 acc: 42.31\n",
            "11/10/2024 20:50:15 - INFO - __main__ -   Best top-1 acc: 7.59\n",
            "11/10/2024 20:50:15 - INFO - __main__ -   Mean top-1 acc: 7.59\n",
            "\n",
            "Train Epoch: 2/   4. Iter:   16/  16. LR: 0.0232. Data: 18.076s. Batch: 25.901s. Loss: 4.7172. Loss_x: 2.4472. Loss_u: 2.2700. Mask: 1.00. Mask_Count: 1.0. : 100% 16/16 [02:05<00:00,  7.84s/it]\n",
            "Test Iter: 1627/1627. Data: 0.005s. Batch: 0.176s. Loss: 2.3145. top1: 7.32. top5: 42.24. : 100% 1627/1627 [04:47<00:00,  5.67it/s]\n",
            "11/10/2024 20:57:08 - INFO - __main__ -   top-1 acc: 7.32\n",
            "11/10/2024 20:57:08 - INFO - __main__ -   top-5 acc: 42.24\n",
            "11/10/2024 20:57:08 - INFO - __main__ -   Best top-1 acc: 7.59\n",
            "11/10/2024 20:57:08 - INFO - __main__ -   Mean top-1 acc: 7.46\n",
            "\n",
            "Train Epoch: 3/   4. Iter:   16/  16. LR: 0.0154. Data: 17.967s. Batch: 26.132s. Loss: 4.7843. Loss_x: 2.3733. Loss_u: 2.4110. Mask: 1.00. Mask_Count: 1.0. : 100% 16/16 [02:10<00:00,  8.18s/it]\n",
            "Test Iter: 1627/1627. Data: 0.005s. Batch: 0.177s. Loss: 2.3189. top1: 6.13. top5: 42.24. : 100% 1627/1627 [04:48<00:00,  5.64it/s]\n",
            "11/10/2024 21:04:07 - INFO - __main__ -   top-1 acc: 6.13\n",
            "11/10/2024 21:04:07 - INFO - __main__ -   top-5 acc: 42.24\n",
            "11/10/2024 21:04:07 - INFO - __main__ -   Best top-1 acc: 7.59\n",
            "11/10/2024 21:04:07 - INFO - __main__ -   Mean top-1 acc: 7.01\n",
            "\n",
            "Train Epoch: 4/   4. Iter:   16/  16. LR: 0.0059. Data: 18.074s. Batch: 26.114s. Loss: 4.7033. Loss_x: 2.3634. Loss_u: 2.3399. Mask: 1.00. Mask_Count: 1.0. : 100% 16/16 [02:09<00:00,  8.07s/it]\n",
            "Test Iter: 1627/1627. Data: 0.005s. Batch: 0.176s. Loss: 2.3244. top1: 6.13. top5: 42.24. : 100% 1627/1627 [04:46<00:00,  5.68it/s]\n",
            "11/10/2024 21:11:03 - INFO - __main__ -   top-1 acc: 6.13\n",
            "11/10/2024 21:11:03 - INFO - __main__ -   top-5 acc: 42.24\n",
            "11/10/2024 21:11:03 - INFO - __main__ -   Best top-1 acc: 7.59\n",
            "11/10/2024 21:11:03 - INFO - __main__ -   Mean top-1 acc: 6.79\n",
            "\n"
          ]
        }
      ]
    },
    {
      "cell_type": "code",
      "source": [
        "!python /content/Fixmatch/train_modified_flexmatch.py --dataset stl10 --num-labeled 1000 --arch wideresnet --batch-size 16 --total-steps 64 --eval-step 16  --lr 0.03 --expand-labels --seed 5 --out results/cifar10_flexmatch@1000.5"
      ],
      "metadata": {
        "colab": {
          "base_uri": "https://localhost:8080/"
        },
        "id": "BLgT0a7N8CNA",
        "outputId": "d8b9a1d9-da6a-4690-baaf-0eb772e3cf72"
      },
      "execution_count": null,
      "outputs": [
        {
          "output_type": "stream",
          "name": "stdout",
          "text": [
            "2024-11-10 07:18:54.795651: E external/local_xla/xla/stream_executor/cuda/cuda_fft.cc:485] Unable to register cuFFT factory: Attempting to register factory for plugin cuFFT when one has already been registered\n",
            "2024-11-10 07:18:54.814878: E external/local_xla/xla/stream_executor/cuda/cuda_dnn.cc:8454] Unable to register cuDNN factory: Attempting to register factory for plugin cuDNN when one has already been registered\n",
            "2024-11-10 07:18:54.820662: E external/local_xla/xla/stream_executor/cuda/cuda_blas.cc:1452] Unable to register cuBLAS factory: Attempting to register factory for plugin cuBLAS when one has already been registered\n",
            "2024-11-10 07:18:54.835169: I tensorflow/core/platform/cpu_feature_guard.cc:210] This TensorFlow binary is optimized to use available CPU instructions in performance-critical operations.\n",
            "To enable the following instructions: AVX2 AVX512F FMA, in other operations, rebuild TensorFlow with the appropriate compiler flags.\n",
            "2024-11-10 07:18:55.947081: W tensorflow/compiler/tf2tensorrt/utils/py_utils.cc:38] TF-TRT Warning: Could not find TensorRT\n",
            "11/10/2024 07:18:58 - WARNING - __main__ -   Process rank: -1, device: cuda:0, n_gpu: 1, distributed training: False, 16-bits training: False\n",
            "11/10/2024 07:18:58 - INFO - __main__ -   {'gpu_id': 0, 'num_workers': 4, 'dataset': 'stl10', 'num_labeled': 1000, 'expand_labels': True, 'arch': 'wideresnet', 'total_steps': 64, 'eval_step': 16, 'start_epoch': 0, 'batch_size': 16, 'lr': 0.03, 'warmup': 0, 'wdecay': 0.0005, 'nesterov': True, 'use_ema': True, 'ema_decay': 0.999, 'mu': 7, 'lambda_u': 1, 'T': 1, 'threshold': 0.95, 'out': 'results/cifar10_flexmatch@1000.5', 'resume': '', 'seed': 5, 'amp': False, 'opt_level': 'O1', 'local_rank': -1, 'no_progress': False, 'n_gpu': 1, 'world_size': 1, 'device': device(type='cuda', index=0), 'thresh_warmup': True}\n",
            "Files already downloaded and verified\n",
            "/usr/local/lib/python3.10/dist-packages/torch/utils/data/dataloader.py:617: UserWarning: This DataLoader will create 4 worker processes in total. Our suggested max number of worker in current system is 2, which is smaller than what this DataLoader is going to create. Please be aware that excessive worker creation might get DataLoader running slow or even freeze, lower the worker number to avoid potential slowness/freeze if necessary.\n",
            "  warnings.warn(\n",
            "11/10/2024 07:19:21 - INFO - models.wideresnet -   Model: WideResNet 28x2\n",
            "11/10/2024 07:19:21 - INFO - __main__ -   Total params: 1.47M\n",
            "11/10/2024 07:19:21 - INFO - __main__ -   ***** Running training *****\n",
            "11/10/2024 07:19:21 - INFO - __main__ -     Task = stl10@1000\n",
            "11/10/2024 07:19:21 - INFO - __main__ -     Num Epochs = 4\n",
            "11/10/2024 07:19:21 - INFO - __main__ -     Batch size per GPU = 16\n",
            "11/10/2024 07:19:21 - INFO - __main__ -     Total train batch size = 16\n",
            "11/10/2024 07:19:21 - INFO - __main__ -     Total optimization steps = 64\n",
            "Train Epoch: 1/   4. Iter:   16/  16. LR: 0.0282. Data: 0.076s. Batch: 1.159s. Loss: 4.6894. Loss_x: 2.4773. Loss_u: 2.2121. Mask: 1.00. Mask_Count: 1.0. : 100% 16/16 [00:18<00:00,  1.14s/it]\n",
            "Test Iter:  500/ 500. Data: 0.005s. Batch: 0.024s. Loss: 2.3047. top1: 9.99. top5: 50.02. : 100% 500/500 [00:12<00:00, 40.62it/s]\n",
            "11/10/2024 07:19:52 - INFO - __main__ -   top-1 acc: 9.99\n",
            "11/10/2024 07:19:52 - INFO - __main__ -   top-5 acc: 50.02\n",
            "11/10/2024 07:19:52 - INFO - __main__ -   Best top-1 acc: 9.99\n",
            "11/10/2024 07:19:52 - INFO - __main__ -   Mean top-1 acc: 9.99\n",
            "\n",
            "Train Epoch: 2/   4. Iter:   16/  16. LR: 0.0232. Data: 0.800s. Batch: 1.806s. Loss: 4.5731. Loss_x: 2.3976. Loss_u: 2.1755. Mask: 1.00. Mask_Count: 1.0. : 100% 16/16 [00:16<00:00,  1.02s/it]\n",
            "Test Iter:  500/ 500. Data: 0.004s. Batch: 0.022s. Loss: 2.3075. top1: 10.00. top5: 50.00. : 100% 500/500 [00:11<00:00, 45.25it/s]\n",
            "11/10/2024 07:20:19 - INFO - __main__ -   top-1 acc: 10.00\n",
            "11/10/2024 07:20:19 - INFO - __main__ -   top-5 acc: 50.00\n",
            "11/10/2024 07:20:19 - INFO - __main__ -   Best top-1 acc: 10.00\n",
            "11/10/2024 07:20:19 - INFO - __main__ -   Mean top-1 acc: 9.99\n",
            "\n",
            "Train Epoch: 3/   4. Iter:   16/  16. LR: 0.0154. Data: 0.775s. Batch: 1.780s. Loss: 4.5612. Loss_x: 2.2951. Loss_u: 2.2660. Mask: 1.00. Mask_Count: 1.0. : 100% 16/16 [00:17<00:00,  1.08s/it]\n",
            "Test Iter:  500/ 500. Data: 0.007s. Batch: 0.026s. Loss: 2.3098. top1: 10.00. top5: 50.00. : 100% 500/500 [00:13<00:00, 38.25it/s]\n",
            "11/10/2024 07:20:50 - INFO - __main__ -   top-1 acc: 10.00\n",
            "11/10/2024 07:20:50 - INFO - __main__ -   top-5 acc: 50.00\n",
            "11/10/2024 07:20:50 - INFO - __main__ -   Best top-1 acc: 10.00\n",
            "11/10/2024 07:20:50 - INFO - __main__ -   Mean top-1 acc: 10.00\n",
            "\n",
            "Train Epoch: 4/   4. Iter:   16/  16. LR: 0.0059. Data: 0.853s. Batch: 1.870s. Loss: 4.4085. Loss_x: 2.1649. Loss_u: 2.2437. Mask: 1.00. Mask_Count: 1.0. : 100% 16/16 [00:16<00:00,  1.05s/it]\n",
            "Test Iter:  500/ 500. Data: 0.005s. Batch: 0.024s. Loss: 2.3117. top1: 10.00. top5: 50.00. : 100% 500/500 [00:12<00:00, 41.29it/s]\n",
            "11/10/2024 07:21:19 - INFO - __main__ -   top-1 acc: 10.00\n",
            "11/10/2024 07:21:19 - INFO - __main__ -   top-5 acc: 50.00\n",
            "11/10/2024 07:21:19 - INFO - __main__ -   Best top-1 acc: 10.00\n",
            "11/10/2024 07:21:19 - INFO - __main__ -   Mean top-1 acc: 10.00\n",
            "\n"
          ]
        }
      ]
    },
    {
      "cell_type": "code",
      "source": [
        "!python /content/Fixmatch/train_modified_flexmatch.py --dataset svhn --num-labeled 1000 --arch wideresnet --batch-size 16 --total-steps 64 --eval-step 16  --lr 0.03 --expand-labels --seed 5 --out results/cifar10_flexmatch@1000.5"
      ],
      "metadata": {
        "colab": {
          "base_uri": "https://localhost:8080/"
        },
        "id": "LL1KPR5w947x",
        "outputId": "5a42f51a-c11a-45e5-f9f4-c6ffd85141d6"
      },
      "execution_count": null,
      "outputs": [
        {
          "output_type": "stream",
          "name": "stdout",
          "text": [
            "2024-11-10 07:59:10.898360: E external/local_xla/xla/stream_executor/cuda/cuda_fft.cc:485] Unable to register cuFFT factory: Attempting to register factory for plugin cuFFT when one has already been registered\n",
            "2024-11-10 07:59:10.918174: E external/local_xla/xla/stream_executor/cuda/cuda_dnn.cc:8454] Unable to register cuDNN factory: Attempting to register factory for plugin cuDNN when one has already been registered\n",
            "2024-11-10 07:59:10.924200: E external/local_xla/xla/stream_executor/cuda/cuda_blas.cc:1452] Unable to register cuBLAS factory: Attempting to register factory for plugin cuBLAS when one has already been registered\n",
            "2024-11-10 07:59:10.938954: I tensorflow/core/platform/cpu_feature_guard.cc:210] This TensorFlow binary is optimized to use available CPU instructions in performance-critical operations.\n",
            "To enable the following instructions: AVX2 FMA, in other operations, rebuild TensorFlow with the appropriate compiler flags.\n",
            "2024-11-10 07:59:12.043513: W tensorflow/compiler/tf2tensorrt/utils/py_utils.cc:38] TF-TRT Warning: Could not find TensorRT\n",
            "11/10/2024 07:59:14 - WARNING - __main__ -   Process rank: -1, device: cuda:0, n_gpu: 1, distributed training: False, 16-bits training: False\n",
            "11/10/2024 07:59:14 - INFO - __main__ -   {'gpu_id': 0, 'num_workers': 4, 'dataset': 'svhn', 'num_labeled': 1000, 'expand_labels': True, 'arch': 'wideresnet', 'total_steps': 64, 'eval_step': 16, 'start_epoch': 0, 'batch_size': 16, 'lr': 0.03, 'warmup': 0, 'wdecay': 0.0005, 'nesterov': True, 'use_ema': True, 'ema_decay': 0.999, 'mu': 7, 'lambda_u': 1, 'T': 1, 'threshold': 0.95, 'out': 'results/cifar10_flexmatch@1000.5', 'resume': '', 'seed': 5, 'amp': False, 'opt_level': 'O1', 'local_rank': -1, 'no_progress': False, 'n_gpu': 1, 'world_size': 1, 'device': device(type='cuda', index=0), 'thresh_warmup': True}\n",
            "Using downloaded and verified file: ./data/train_32x32.mat\n",
            "Using downloaded and verified file: ./data/test_32x32.mat\n",
            "/usr/local/lib/python3.10/dist-packages/torch/utils/data/dataloader.py:617: UserWarning: This DataLoader will create 4 worker processes in total. Our suggested max number of worker in current system is 2, which is smaller than what this DataLoader is going to create. Please be aware that excessive worker creation might get DataLoader running slow or even freeze, lower the worker number to avoid potential slowness/freeze if necessary.\n",
            "  warnings.warn(\n",
            "11/10/2024 07:59:22 - INFO - models.wideresnet -   Model: WideResNet 28x2\n",
            "11/10/2024 07:59:22 - INFO - __main__ -   Total params: 1.47M\n",
            "11/10/2024 07:59:22 - INFO - __main__ -   ***** Running training *****\n",
            "11/10/2024 07:59:22 - INFO - __main__ -     Task = svhn@1000\n",
            "11/10/2024 07:59:22 - INFO - __main__ -     Num Epochs = 4\n",
            "11/10/2024 07:59:22 - INFO - __main__ -     Batch size per GPU = 16\n",
            "11/10/2024 07:59:22 - INFO - __main__ -     Total train batch size = 16\n",
            "11/10/2024 07:59:22 - INFO - __main__ -     Total optimization steps = 64\n",
            "Train Epoch: 1/   4. Iter:   16/  16. LR: 0.0282. Data: 0.060s. Batch: 0.328s. Loss: 5.2335. Loss_x: 2.9372. Loss_u: 2.2963. Mask: 1.00. Mask_Count: 1.0. : 100% 16/16 [00:04<00:00,  3.21it/s]\n",
            "Test Iter: 1627/1627. Data: 0.004s. Batch: 0.012s. Loss: 2.3135. top1: 7.57. top5: 42.36. : 100% 1627/1627 [00:19<00:00, 83.98it/s]\n",
            "11/10/2024 07:59:47 - INFO - __main__ -   top-1 acc: 7.57\n",
            "11/10/2024 07:59:47 - INFO - __main__ -   top-5 acc: 42.36\n",
            "11/10/2024 07:59:47 - INFO - __main__ -   Best top-1 acc: 7.57\n",
            "11/10/2024 07:59:47 - INFO - __main__ -   Mean top-1 acc: 7.57\n",
            "\n",
            "Train Epoch: 2/   4. Iter:   16/  16. LR: 0.0232. Data: 1.262s. Batch: 1.481s. Loss: 4.7819. Loss_x: 2.4723. Loss_u: 2.3096. Mask: 1.00. Mask_Count: 1.0. : 100% 16/16 [00:04<00:00,  3.82it/s]\n",
            "Test Iter: 1627/1627. Data: 0.004s. Batch: 0.012s. Loss: 2.3100. top1: 7.59. top5: 42.24. : 100% 1627/1627 [00:19<00:00, 82.89it/s]\n",
            "11/10/2024 08:00:11 - INFO - __main__ -   top-1 acc: 7.59\n",
            "11/10/2024 08:00:11 - INFO - __main__ -   top-5 acc: 42.24\n",
            "11/10/2024 08:00:11 - INFO - __main__ -   Best top-1 acc: 7.59\n",
            "11/10/2024 08:00:11 - INFO - __main__ -   Mean top-1 acc: 7.58\n",
            "\n",
            "Train Epoch: 3/   4. Iter:   16/  16. LR: 0.0154. Data: 1.255s. Batch: 1.414s. Loss: 4.7238. Loss_x: 2.3666. Loss_u: 2.3572. Mask: 1.00. Mask_Count: 1.0. : 100% 16/16 [00:02<00:00,  5.71it/s]\n",
            "Test Iter: 1627/1627. Data: 0.004s. Batch: 0.012s. Loss: 2.3128. top1: 6.23. top5: 40.33. : 100% 1627/1627 [00:19<00:00, 83.41it/s] \n",
            "11/10/2024 08:00:33 - INFO - __main__ -   top-1 acc: 6.23\n",
            "11/10/2024 08:00:33 - INFO - __main__ -   top-5 acc: 40.33\n",
            "11/10/2024 08:00:33 - INFO - __main__ -   Best top-1 acc: 7.59\n",
            "11/10/2024 08:00:33 - INFO - __main__ -   Mean top-1 acc: 7.13\n",
            "\n",
            "Train Epoch: 4/   4. Iter:   16/  16. LR: 0.0059. Data: 1.255s. Batch: 1.415s. Loss: 4.7457. Loss_x: 2.3796. Loss_u: 2.3661. Mask: 1.00. Mask_Count: 1.0. : 100% 16/16 [00:03<00:00,  5.30it/s]\n",
            "Test Iter: 1627/1627. Data: 0.004s. Batch: 0.012s. Loss: 2.3175. top1: 6.13. top5: 40.33. : 100% 1627/1627 [00:18<00:00, 86.13it/s] \n",
            "11/10/2024 08:00:55 - INFO - __main__ -   top-1 acc: 6.13\n",
            "11/10/2024 08:00:55 - INFO - __main__ -   top-5 acc: 40.33\n",
            "11/10/2024 08:00:55 - INFO - __main__ -   Best top-1 acc: 7.59\n",
            "11/10/2024 08:00:55 - INFO - __main__ -   Mean top-1 acc: 6.88\n",
            "\n"
          ]
        }
      ]
    },
    {
      "cell_type": "code",
      "source": [
        "!python /content/Fixmatch/train_modified_flexmatch.py --dataset cifar100 --num-labeled 1000 --arch wideresnet --batch-size 16 --total-steps 64 --eval-step 16  --lr 0.03 --expand-labels --seed 5 --out results/cifar100_flexmatch@1000.5"
      ],
      "metadata": {
        "colab": {
          "base_uri": "https://localhost:8080/"
        },
        "id": "0pRTfdorF2GE",
        "outputId": "cfbff2da-685c-4b6d-cc2e-72959f3af2bf"
      },
      "execution_count": null,
      "outputs": [
        {
          "output_type": "stream",
          "name": "stdout",
          "text": [
            "2024-11-10 08:01:57.500079: E external/local_xla/xla/stream_executor/cuda/cuda_fft.cc:485] Unable to register cuFFT factory: Attempting to register factory for plugin cuFFT when one has already been registered\n",
            "2024-11-10 08:01:57.535327: E external/local_xla/xla/stream_executor/cuda/cuda_dnn.cc:8454] Unable to register cuDNN factory: Attempting to register factory for plugin cuDNN when one has already been registered\n",
            "2024-11-10 08:01:57.543244: E external/local_xla/xla/stream_executor/cuda/cuda_blas.cc:1452] Unable to register cuBLAS factory: Attempting to register factory for plugin cuBLAS when one has already been registered\n",
            "2024-11-10 08:01:57.565689: I tensorflow/core/platform/cpu_feature_guard.cc:210] This TensorFlow binary is optimized to use available CPU instructions in performance-critical operations.\n",
            "To enable the following instructions: AVX2 FMA, in other operations, rebuild TensorFlow with the appropriate compiler flags.\n",
            "2024-11-10 08:01:59.159215: W tensorflow/compiler/tf2tensorrt/utils/py_utils.cc:38] TF-TRT Warning: Could not find TensorRT\n",
            "11/10/2024 08:02:01 - WARNING - __main__ -   Process rank: -1, device: cuda:0, n_gpu: 1, distributed training: False, 16-bits training: False\n",
            "11/10/2024 08:02:01 - INFO - __main__ -   {'gpu_id': 0, 'num_workers': 4, 'dataset': 'cifar100', 'num_labeled': 1000, 'expand_labels': True, 'arch': 'wideresnet', 'total_steps': 64, 'eval_step': 16, 'start_epoch': 0, 'batch_size': 16, 'lr': 0.03, 'warmup': 0, 'wdecay': 0.0005, 'nesterov': True, 'use_ema': True, 'ema_decay': 0.999, 'mu': 7, 'lambda_u': 1, 'T': 1, 'threshold': 0.95, 'out': 'results/cifar100_flexmatch@1000.5', 'resume': '', 'seed': 5, 'amp': False, 'opt_level': 'O1', 'local_rank': -1, 'no_progress': False, 'n_gpu': 1, 'world_size': 1, 'device': device(type='cuda', index=0), 'thresh_warmup': True}\n",
            "Downloading https://www.cs.toronto.edu/~kriz/cifar-100-python.tar.gz to ./data/cifar-100-python.tar.gz\n",
            "100% 169M/169M [00:12<00:00, 13.2MB/s]\n",
            "Extracting ./data/cifar-100-python.tar.gz to ./data\n",
            "/usr/local/lib/python3.10/dist-packages/torch/utils/data/dataloader.py:617: UserWarning: This DataLoader will create 4 worker processes in total. Our suggested max number of worker in current system is 2, which is smaller than what this DataLoader is going to create. Please be aware that excessive worker creation might get DataLoader running slow or even freeze, lower the worker number to avoid potential slowness/freeze if necessary.\n",
            "  warnings.warn(\n",
            "11/10/2024 08:02:20 - INFO - models.wideresnet -   Model: WideResNet 28x8\n",
            "11/10/2024 08:02:21 - INFO - __main__ -   Total params: 23.40M\n",
            "11/10/2024 08:02:21 - INFO - __main__ -   ***** Running training *****\n",
            "11/10/2024 08:02:21 - INFO - __main__ -     Task = cifar100@1000\n",
            "11/10/2024 08:02:21 - INFO - __main__ -     Num Epochs = 4\n",
            "11/10/2024 08:02:21 - INFO - __main__ -     Batch size per GPU = 16\n",
            "11/10/2024 08:02:21 - INFO - __main__ -     Total train batch size = 16\n",
            "11/10/2024 08:02:21 - INFO - __main__ -     Total optimization steps = 64\n",
            "Train Epoch: 1/   4. Iter:   16/  16. LR: 0.0282. Data: 0.091s. Batch: 0.840s. Loss: 12.3187. Loss_x: 6.6596. Loss_u: 5.6591. Mask: 1.00. Mask_Count: 1.0. : 100% 16/16 [00:13<00:00,  1.23it/s]\n",
            "Test Iter:  625/ 625. Data: 0.004s. Batch: 0.021s. Loss: 4.6068. top1: 1.00. top5: 5.00. : 100% 625/625 [00:12<00:00, 48.51it/s]\n",
            "11/10/2024 08:02:47 - INFO - __main__ -   top-1 acc: 1.00\n",
            "11/10/2024 08:02:47 - INFO - __main__ -   top-5 acc: 5.00\n",
            "11/10/2024 08:02:51 - INFO - __main__ -   Best top-1 acc: 1.00\n",
            "11/10/2024 08:02:51 - INFO - __main__ -   Mean top-1 acc: 1.00\n",
            "\n",
            "Train Epoch: 2/   4. Iter:   16/  16. LR: 0.0232. Data: 1.039s. Batch: 1.712s. Loss: 9.9264. Loss_x: 5.2148. Loss_u: 4.7116. Mask: 1.00. Mask_Count: 1.0. : 100% 16/16 [00:11<00:00,  1.45it/s]\n",
            "Test Iter:  625/ 625. Data: 0.003s. Batch: 0.019s. Loss: 4.6082. top1: 1.00. top5: 5.00. : 100% 625/625 [00:12<00:00, 50.81it/s]\n",
            "11/10/2024 08:03:14 - INFO - __main__ -   top-1 acc: 1.00\n",
            "11/10/2024 08:03:14 - INFO - __main__ -   top-5 acc: 5.00\n",
            "11/10/2024 08:03:15 - INFO - __main__ -   Best top-1 acc: 1.00\n",
            "11/10/2024 08:03:15 - INFO - __main__ -   Mean top-1 acc: 1.00\n",
            "\n",
            "Train Epoch: 3/   4. Iter:   16/  16. LR: 0.0154. Data: 0.863s. Batch: 1.554s. Loss: 9.7299. Loss_x: 5.1626. Loss_u: 4.5673. Mask: 1.00. Mask_Count: 1.0. : 100% 16/16 [00:11<00:00,  1.42it/s]\n",
            "Test Iter:  625/ 625. Data: 0.004s. Batch: 0.021s. Loss: 4.6111. top1: 1.00. top5: 5.00. : 100% 625/625 [00:13<00:00, 46.96it/s]\n",
            "11/10/2024 08:03:40 - INFO - __main__ -   top-1 acc: 1.00\n",
            "11/10/2024 08:03:40 - INFO - __main__ -   top-5 acc: 5.00\n",
            "11/10/2024 08:03:41 - INFO - __main__ -   Best top-1 acc: 1.00\n",
            "11/10/2024 08:03:41 - INFO - __main__ -   Mean top-1 acc: 1.00\n",
            "\n",
            "Train Epoch: 4/   4. Iter:   16/  16. LR: 0.0059. Data: 0.915s. Batch: 1.633s. Loss: 9.4303. Loss_x: 4.8864. Loss_u: 4.5439. Mask: 1.00. Mask_Count: 1.0. : 100% 16/16 [00:12<00:00,  1.33it/s]\n",
            "Test Iter:  625/ 625. Data: 0.003s. Batch: 0.020s. Loss: 4.6163. top1: 1.00. top5: 5.00. : 100% 625/625 [00:12<00:00, 49.09it/s]\n",
            "11/10/2024 08:04:06 - INFO - __main__ -   top-1 acc: 1.00\n",
            "11/10/2024 08:04:06 - INFO - __main__ -   top-5 acc: 5.00\n",
            "11/10/2024 08:04:07 - INFO - __main__ -   Best top-1 acc: 1.00\n",
            "11/10/2024 08:04:07 - INFO - __main__ -   Mean top-1 acc: 1.00\n",
            "\n"
          ]
        }
      ]
    },
    {
      "cell_type": "code",
      "source": [
        "!python /content/Fixmatch/train_modified_flexmatch.py --dataset cifar10 --num-labeled 1000 --arch wideresnet --batch-size 16 --total-steps 64 --eval-step 16  --lr 0.03 --expand-labels --seed 5 --out results/cifar100_flexmatch@1000.5\n",
        "\n"
      ],
      "metadata": {
        "colab": {
          "base_uri": "https://localhost:8080/"
        },
        "id": "8WpI6AjcKvxk",
        "outputId": "c2cbf645-6035-4b17-94bd-d5de7ac6b5dc"
      },
      "execution_count": null,
      "outputs": [
        {
          "output_type": "stream",
          "name": "stdout",
          "text": [
            "2024-11-10 08:23:34.427540: E external/local_xla/xla/stream_executor/cuda/cuda_fft.cc:485] Unable to register cuFFT factory: Attempting to register factory for plugin cuFFT when one has already been registered\n",
            "2024-11-10 08:23:34.447974: E external/local_xla/xla/stream_executor/cuda/cuda_dnn.cc:8454] Unable to register cuDNN factory: Attempting to register factory for plugin cuDNN when one has already been registered\n",
            "2024-11-10 08:23:34.454656: E external/local_xla/xla/stream_executor/cuda/cuda_blas.cc:1452] Unable to register cuBLAS factory: Attempting to register factory for plugin cuBLAS when one has already been registered\n",
            "2024-11-10 08:23:34.470414: I tensorflow/core/platform/cpu_feature_guard.cc:210] This TensorFlow binary is optimized to use available CPU instructions in performance-critical operations.\n",
            "To enable the following instructions: AVX2 FMA, in other operations, rebuild TensorFlow with the appropriate compiler flags.\n",
            "2024-11-10 08:23:35.565033: W tensorflow/compiler/tf2tensorrt/utils/py_utils.cc:38] TF-TRT Warning: Could not find TensorRT\n",
            "11/10/2024 08:23:38 - WARNING - __main__ -   Process rank: -1, device: cuda:0, n_gpu: 1, distributed training: False, 16-bits training: False\n",
            "11/10/2024 08:23:38 - INFO - __main__ -   {'gpu_id': 0, 'num_workers': 4, 'dataset': 'cifar10', 'num_labeled': 1000, 'expand_labels': True, 'arch': 'wideresnet', 'total_steps': 64, 'eval_step': 16, 'start_epoch': 0, 'batch_size': 16, 'lr': 0.03, 'warmup': 0, 'wdecay': 0.0005, 'nesterov': True, 'use_ema': True, 'ema_decay': 0.999, 'mu': 7, 'lambda_u': 1, 'T': 1, 'threshold': 0.95, 'out': 'results/cifar100_flexmatch@1000.5', 'resume': '', 'seed': 5, 'amp': False, 'opt_level': 'O1', 'local_rank': -1, 'no_progress': False, 'n_gpu': 1, 'world_size': 1, 'device': device(type='cuda', index=0), 'thresh_warmup': True}\n",
            "Downloading https://www.cs.toronto.edu/~kriz/cifar-10-python.tar.gz to ./data/cifar-10-python.tar.gz\n",
            "100% 170M/170M [00:13<00:00, 13.1MB/s]\n",
            "Extracting ./data/cifar-10-python.tar.gz to ./data\n",
            "/usr/local/lib/python3.10/dist-packages/torch/utils/data/dataloader.py:617: UserWarning: This DataLoader will create 4 worker processes in total. Our suggested max number of worker in current system is 2, which is smaller than what this DataLoader is going to create. Please be aware that excessive worker creation might get DataLoader running slow or even freeze, lower the worker number to avoid potential slowness/freeze if necessary.\n",
            "  warnings.warn(\n",
            "11/10/2024 08:23:56 - INFO - models.wideresnet -   Model: WideResNet 28x2\n",
            "11/10/2024 08:23:56 - INFO - __main__ -   Total params: 1.47M\n",
            "11/10/2024 08:23:57 - INFO - __main__ -   ***** Running training *****\n",
            "11/10/2024 08:23:57 - INFO - __main__ -     Task = cifar10@1000\n",
            "11/10/2024 08:23:57 - INFO - __main__ -     Num Epochs = 4\n",
            "11/10/2024 08:23:57 - INFO - __main__ -     Batch size per GPU = 16\n",
            "11/10/2024 08:23:57 - INFO - __main__ -     Total train batch size = 16\n",
            "11/10/2024 08:23:57 - INFO - __main__ -     Total optimization steps = 64\n",
            "Train Epoch: 1/   4. Iter:   16/  16. LR: 0.0282. Data: 0.059s. Batch: 0.275s. Loss: 5.2031. Loss_x: 2.6560. Loss_u: 2.5471. Mask: 1.00. Mask_Count: 1.0. : 100% 16/16 [00:04<00:00,  3.85it/s]\n",
            "Test Iter:  625/ 625. Data: 0.006s. Batch: 0.014s. Loss: 2.3025. top1: 9.99. top5: 50.01. : 100% 625/625 [00:08<00:00, 73.37it/s] \n",
            "11/10/2024 08:24:09 - INFO - __main__ -   top-1 acc: 9.99\n",
            "11/10/2024 08:24:09 - INFO - __main__ -   top-5 acc: 50.01\n",
            "11/10/2024 08:24:10 - INFO - __main__ -   Best top-1 acc: 9.99\n",
            "11/10/2024 08:24:10 - INFO - __main__ -   Mean top-1 acc: 9.99\n",
            "\n",
            "Train Epoch: 2/   4. Iter:   16/  16. LR: 0.0232. Data: 0.560s. Batch: 0.720s. Loss: 4.8295. Loss_x: 2.4694. Loss_u: 2.3601. Mask: 1.00. Mask_Count: 1.0. : 100% 16/16 [00:02<00:00,  5.81it/s]\n",
            "Test Iter:  625/ 625. Data: 0.002s. Batch: 0.010s. Loss: 2.3028. top1: 10.00. top5: 51.30. : 100% 625/625 [00:06<00:00, 93.92it/s]\n",
            "11/10/2024 08:24:19 - INFO - __main__ -   top-1 acc: 10.00\n",
            "11/10/2024 08:24:19 - INFO - __main__ -   top-5 acc: 51.30\n",
            "11/10/2024 08:24:19 - INFO - __main__ -   Best top-1 acc: 10.00\n",
            "11/10/2024 08:24:19 - INFO - __main__ -   Mean top-1 acc: 10.00\n",
            "\n",
            "Train Epoch: 3/   4. Iter:   16/  16. LR: 0.0154. Data: 0.459s. Batch: 0.666s. Loss: 4.7130. Loss_x: 2.3345. Loss_u: 2.3785. Mask: 1.00. Mask_Count: 1.0. : 100% 16/16 [00:03<00:00,  4.21it/s]\n",
            "Test Iter:  625/ 625. Data: 0.005s. Batch: 0.012s. Loss: 2.3030. top1: 10.00. top5: 49.42. : 100% 625/625 [00:07<00:00, 79.92it/s] \n",
            "11/10/2024 08:24:31 - INFO - __main__ -   top-1 acc: 10.00\n",
            "11/10/2024 08:24:31 - INFO - __main__ -   top-5 acc: 49.42\n",
            "11/10/2024 08:24:31 - INFO - __main__ -   Best top-1 acc: 10.00\n",
            "11/10/2024 08:24:31 - INFO - __main__ -   Mean top-1 acc: 10.00\n",
            "\n",
            "Train Epoch: 4/   4. Iter:   16/  16. LR: 0.0059. Data: 0.523s. Batch: 0.678s. Loss: 4.6913. Loss_x: 2.4459. Loss_u: 2.2454. Mask: 1.00. Mask_Count: 1.0. : 100% 16/16 [00:02<00:00,  5.45it/s]\n",
            "Test Iter:  625/ 625. Data: 0.004s. Batch: 0.012s. Loss: 2.3030. top1: 10.00. top5: 49.94. : 100% 625/625 [00:07<00:00, 80.56it/s]\n",
            "11/10/2024 08:24:42 - INFO - __main__ -   top-1 acc: 10.00\n",
            "11/10/2024 08:24:42 - INFO - __main__ -   top-5 acc: 49.94\n",
            "11/10/2024 08:24:42 - INFO - __main__ -   Best top-1 acc: 10.00\n",
            "11/10/2024 08:24:42 - INFO - __main__ -   Mean top-1 acc: 10.00\n",
            "\n"
          ]
        }
      ]
    },
    {
      "cell_type": "code",
      "source": [
        "!python /content/Fixmatch/train_modified.py --dataset svhn --num-labeled 1000 --arch wideresnet --batch-size 16 --total-steps 64 --eval-step 16  --lr 0.03 --expand-labels --seed 5 --out results/cifar10_flexmatch@1000.5"
      ],
      "metadata": {
        "colab": {
          "base_uri": "https://localhost:8080/"
        },
        "id": "fCtQ5nR0LV_L",
        "outputId": "7be9fb22-3f09-4352-989a-464425e48c59"
      },
      "execution_count": null,
      "outputs": [
        {
          "output_type": "stream",
          "name": "stdout",
          "text": [
            "2024-11-10 08:26:05.142685: E external/local_xla/xla/stream_executor/cuda/cuda_fft.cc:485] Unable to register cuFFT factory: Attempting to register factory for plugin cuFFT when one has already been registered\n",
            "2024-11-10 08:26:05.162595: E external/local_xla/xla/stream_executor/cuda/cuda_dnn.cc:8454] Unable to register cuDNN factory: Attempting to register factory for plugin cuDNN when one has already been registered\n",
            "2024-11-10 08:26:05.168611: E external/local_xla/xla/stream_executor/cuda/cuda_blas.cc:1452] Unable to register cuBLAS factory: Attempting to register factory for plugin cuBLAS when one has already been registered\n",
            "2024-11-10 08:26:05.183151: I tensorflow/core/platform/cpu_feature_guard.cc:210] This TensorFlow binary is optimized to use available CPU instructions in performance-critical operations.\n",
            "To enable the following instructions: AVX2 FMA, in other operations, rebuild TensorFlow with the appropriate compiler flags.\n",
            "2024-11-10 08:26:06.266218: W tensorflow/compiler/tf2tensorrt/utils/py_utils.cc:38] TF-TRT Warning: Could not find TensorRT\n",
            "11/10/2024 08:26:08 - WARNING - __main__ -   Process rank: -1, device: cuda:0, n_gpu: 1, distributed training: False, 16-bits training: False\n",
            "11/10/2024 08:26:08 - INFO - __main__ -   {'gpu_id': 0, 'num_workers': 4, 'dataset': 'svhn', 'num_labeled': 1000, 'expand_labels': True, 'arch': 'wideresnet', 'total_steps': 64, 'eval_step': 16, 'start_epoch': 0, 'batch_size': 16, 'lr': 0.03, 'warmup': 0, 'wdecay': 0.0005, 'nesterov': True, 'use_ema': True, 'ema_decay': 0.999, 'mu': 7, 'lambda_u': 1, 'T': 1, 'threshold': 0.95, 'out': 'results/cifar10_flexmatch@1000.5', 'resume': '', 'seed': 5, 'amp': False, 'opt_level': 'O1', 'local_rank': -1, 'no_progress': False, 'n_gpu': 1, 'world_size': 1, 'device': device(type='cuda', index=0)}\n",
            "Using downloaded and verified file: ./data/train_32x32.mat\n",
            "Using downloaded and verified file: ./data/test_32x32.mat\n",
            "/usr/local/lib/python3.10/dist-packages/torch/utils/data/dataloader.py:617: UserWarning: This DataLoader will create 4 worker processes in total. Our suggested max number of worker in current system is 2, which is smaller than what this DataLoader is going to create. Please be aware that excessive worker creation might get DataLoader running slow or even freeze, lower the worker number to avoid potential slowness/freeze if necessary.\n",
            "  warnings.warn(\n",
            "11/10/2024 08:26:16 - INFO - models.wideresnet -   Model: WideResNet 28x2\n",
            "11/10/2024 08:26:16 - INFO - __main__ -   Total params: 1.47M\n",
            "11/10/2024 08:26:16 - INFO - __main__ -   ***** Running training *****\n",
            "11/10/2024 08:26:16 - INFO - __main__ -     Task = svhn@1000\n",
            "11/10/2024 08:26:16 - INFO - __main__ -     Num Epochs = 4\n",
            "11/10/2024 08:26:16 - INFO - __main__ -     Batch size per GPU = 16\n",
            "11/10/2024 08:26:16 - INFO - __main__ -     Total train batch size = 16\n",
            "11/10/2024 08:26:16 - INFO - __main__ -     Total optimization steps = 64\n",
            "Train Epoch: 1/   4. Iter:   16/  16. LR: 0.0282. Data: 0.055s. Batch: 0.269s. Loss: 2.8156. Loss_x: 2.8067. Loss_u: 0.0089. Mask: 0.01. Mask_Count: <built-in method sum of Tensor object at 0x7a657c43f7e0> : 100% 16/16 [00:04<00:00,  3.93it/s]\n",
            "Test Iter: 1627/1627. Data: 0.003s. Batch: 0.011s. Loss: 2.2909. top1: 19.28. top5: 53.40. : 100% 1627/1627 [00:18<00:00, 88.04it/s] \n",
            "11/10/2024 08:26:39 - INFO - __main__ -   top-1 acc: 19.28\n",
            "11/10/2024 08:26:39 - INFO - __main__ -   top-5 acc: 53.40\n",
            "11/10/2024 08:26:39 - INFO - __main__ -   Best top-1 acc: 19.28\n",
            "11/10/2024 08:26:39 - INFO - __main__ -   Mean top-1 acc: 19.28\n",
            "\n",
            "Train Epoch: 2/   4. Iter:   16/  16. LR: 0.0232. Data: 1.180s. Batch: 1.331s. Loss: 2.4522. Loss_x: 2.4522. Loss_u: 0.0000. Mask: 0.00. Mask_Count: <built-in method sum of Tensor object at 0x7a65741933d0> : 100% 16/16 [00:02<00:00,  5.96it/s]\n",
            "Test Iter: 1627/1627. Data: 0.004s. Batch: 0.012s. Loss: 2.2854. top1: 19.59. top5: 57.26. : 100% 1627/1627 [00:19<00:00, 85.59it/s] \n",
            "11/10/2024 08:27:01 - INFO - __main__ -   top-1 acc: 19.59\n",
            "11/10/2024 08:27:01 - INFO - __main__ -   top-5 acc: 57.26\n",
            "11/10/2024 08:27:01 - INFO - __main__ -   Best top-1 acc: 19.59\n",
            "11/10/2024 08:27:01 - INFO - __main__ -   Mean top-1 acc: 19.44\n",
            "\n",
            "Train Epoch: 3/   4. Iter:   16/  16. LR: 0.0154. Data: 1.247s. Batch: 1.443s. Loss: 2.4275. Loss_x: 2.4273. Loss_u: 0.0003. Mask: 0.00. Mask_Count: <built-in method sum of Tensor object at 0x7a657411c720> : 100% 16/16 [00:03<00:00,  4.12it/s]\n",
            "Test Iter: 1627/1627. Data: 0.004s. Batch: 0.012s. Loss: 2.2815. top1: 19.59. top5: 57.26. : 100% 1627/1627 [00:19<00:00, 83.61it/s]\n",
            "11/10/2024 08:27:25 - INFO - __main__ -   top-1 acc: 19.59\n",
            "11/10/2024 08:27:25 - INFO - __main__ -   top-5 acc: 57.26\n",
            "11/10/2024 08:27:25 - INFO - __main__ -   Best top-1 acc: 19.59\n",
            "11/10/2024 08:27:25 - INFO - __main__ -   Mean top-1 acc: 19.49\n",
            "\n",
            "Train Epoch: 4/   4. Iter:   16/  16. LR: 0.0059. Data: 1.256s. Batch: 1.414s. Loss: 2.3835. Loss_x: 2.3835. Loss_u: 0.0000. Mask: 0.00. Mask_Count: <built-in method sum of Tensor object at 0x7a657d157ce0> : 100% 16/16 [00:03<00:00,  5.28it/s]\n",
            "Test Iter: 1627/1627. Data: 0.004s. Batch: 0.012s. Loss: 2.2799. top1: 19.59. top5: 57.26. : 100% 1627/1627 [00:18<00:00, 86.49it/s] \n",
            "11/10/2024 08:27:47 - INFO - __main__ -   top-1 acc: 19.59\n",
            "11/10/2024 08:27:47 - INFO - __main__ -   top-5 acc: 57.26\n",
            "11/10/2024 08:27:47 - INFO - __main__ -   Best top-1 acc: 19.59\n",
            "11/10/2024 08:27:47 - INFO - __main__ -   Mean top-1 acc: 19.51\n",
            "\n"
          ]
        }
      ]
    },
    {
      "cell_type": "code",
      "source": [
        "!python /content/Fixmatch/train_modified.py --dataset cifar10 --num-labeled 1000 --arch wideresnet --batch-size 16 --total-steps 64 --eval-step 16  --lr 0.03 --expand-labels --seed 5 --out results/cifar10_flexmatch@1000.5"
      ],
      "metadata": {
        "colab": {
          "base_uri": "https://localhost:8080/"
        },
        "id": "8flkKVZcMAVZ",
        "outputId": "fbf81e49-c43b-4841-b7cd-60d0875616e9"
      },
      "execution_count": null,
      "outputs": [
        {
          "output_type": "stream",
          "name": "stdout",
          "text": [
            "2024-11-10 08:28:39.061714: E external/local_xla/xla/stream_executor/cuda/cuda_fft.cc:485] Unable to register cuFFT factory: Attempting to register factory for plugin cuFFT when one has already been registered\n",
            "2024-11-10 08:28:39.082101: E external/local_xla/xla/stream_executor/cuda/cuda_dnn.cc:8454] Unable to register cuDNN factory: Attempting to register factory for plugin cuDNN when one has already been registered\n",
            "2024-11-10 08:28:39.088057: E external/local_xla/xla/stream_executor/cuda/cuda_blas.cc:1452] Unable to register cuBLAS factory: Attempting to register factory for plugin cuBLAS when one has already been registered\n",
            "2024-11-10 08:28:39.101983: I tensorflow/core/platform/cpu_feature_guard.cc:210] This TensorFlow binary is optimized to use available CPU instructions in performance-critical operations.\n",
            "To enable the following instructions: AVX2 FMA, in other operations, rebuild TensorFlow with the appropriate compiler flags.\n",
            "2024-11-10 08:28:40.381845: W tensorflow/compiler/tf2tensorrt/utils/py_utils.cc:38] TF-TRT Warning: Could not find TensorRT\n",
            "11/10/2024 08:28:43 - WARNING - __main__ -   Process rank: -1, device: cuda:0, n_gpu: 1, distributed training: False, 16-bits training: False\n",
            "11/10/2024 08:28:43 - INFO - __main__ -   {'gpu_id': 0, 'num_workers': 4, 'dataset': 'cifar10', 'num_labeled': 1000, 'expand_labels': True, 'arch': 'wideresnet', 'total_steps': 64, 'eval_step': 16, 'start_epoch': 0, 'batch_size': 16, 'lr': 0.03, 'warmup': 0, 'wdecay': 0.0005, 'nesterov': True, 'use_ema': True, 'ema_decay': 0.999, 'mu': 7, 'lambda_u': 1, 'T': 1, 'threshold': 0.95, 'out': 'results/cifar10_flexmatch@1000.5', 'resume': '', 'seed': 5, 'amp': False, 'opt_level': 'O1', 'local_rank': -1, 'no_progress': False, 'n_gpu': 1, 'world_size': 1, 'device': device(type='cuda', index=0)}\n",
            "Files already downloaded and verified\n",
            "/usr/local/lib/python3.10/dist-packages/torch/utils/data/dataloader.py:617: UserWarning: This DataLoader will create 4 worker processes in total. Our suggested max number of worker in current system is 2, which is smaller than what this DataLoader is going to create. Please be aware that excessive worker creation might get DataLoader running slow or even freeze, lower the worker number to avoid potential slowness/freeze if necessary.\n",
            "  warnings.warn(\n",
            "11/10/2024 08:28:45 - INFO - models.wideresnet -   Model: WideResNet 28x2\n",
            "11/10/2024 08:28:45 - INFO - __main__ -   Total params: 1.47M\n",
            "11/10/2024 08:28:46 - INFO - __main__ -   ***** Running training *****\n",
            "11/10/2024 08:28:46 - INFO - __main__ -     Task = cifar10@1000\n",
            "11/10/2024 08:28:46 - INFO - __main__ -     Num Epochs = 4\n",
            "11/10/2024 08:28:46 - INFO - __main__ -     Batch size per GPU = 16\n",
            "11/10/2024 08:28:46 - INFO - __main__ -     Total train batch size = 16\n",
            "11/10/2024 08:28:46 - INFO - __main__ -     Total optimization steps = 64\n",
            "Train Epoch: 1/   4. Iter:   16/  16. LR: 0.0282. Data: 0.066s. Batch: 0.278s. Loss: 2.5750. Loss_x: 2.5649. Loss_u: 0.0101. Mask: 0.02. Mask_Count: <built-in method sum of Tensor object at 0x7b9f1c747e20> : 100% 16/16 [00:04<00:00,  3.82it/s]\n",
            "Test Iter:  625/ 625. Data: 0.006s. Batch: 0.014s. Loss: 2.3022. top1: 10.01. top5: 50.99. : 100% 625/625 [00:08<00:00, 72.49it/s]\n",
            "11/10/2024 08:28:59 - INFO - __main__ -   top-1 acc: 10.01\n",
            "11/10/2024 08:28:59 - INFO - __main__ -   top-5 acc: 50.99\n",
            "11/10/2024 08:28:59 - INFO - __main__ -   Best top-1 acc: 10.01\n",
            "11/10/2024 08:28:59 - INFO - __main__ -   Mean top-1 acc: 10.01\n",
            "\n",
            "Train Epoch: 2/   4. Iter:   16/  16. LR: 0.0232. Data: 0.565s. Batch: 0.718s. Loss: 2.3501. Loss_x: 2.3485. Loss_u: 0.0016. Mask: 0.00. Mask_Count: <built-in method sum of Tensor object at 0x7b9f1c7f2b10> : 100% 16/16 [00:02<00:00,  5.95it/s]\n",
            "Test Iter:  625/ 625. Data: 0.002s. Batch: 0.010s. Loss: 2.3075. top1: 10.00. top5: 50.00. : 100% 625/625 [00:06<00:00, 101.12it/s]\n",
            "11/10/2024 08:29:08 - INFO - __main__ -   top-1 acc: 10.00\n",
            "11/10/2024 08:29:08 - INFO - __main__ -   top-5 acc: 50.00\n",
            "11/10/2024 08:29:08 - INFO - __main__ -   Best top-1 acc: 10.01\n",
            "11/10/2024 08:29:08 - INFO - __main__ -   Mean top-1 acc: 10.00\n",
            "\n",
            "Train Epoch: 3/   4. Iter:   16/  16. LR: 0.0154. Data: 0.421s. Batch: 0.594s. Loss: 2.2860. Loss_x: 2.2853. Loss_u: 0.0008. Mask: 0.00. Mask_Count: <built-in method sum of Tensor object at 0x7b9f5f283880> : 100% 16/16 [00:03<00:00,  4.94it/s]\n",
            "Test Iter:  625/ 625. Data: 0.008s. Batch: 0.015s. Loss: 2.3087. top1: 10.00. top5: 50.01. : 100% 625/625 [00:09<00:00, 65.78it/s] \n",
            "11/10/2024 08:29:21 - INFO - __main__ -   top-1 acc: 10.00\n",
            "11/10/2024 08:29:21 - INFO - __main__ -   top-5 acc: 50.01\n",
            "11/10/2024 08:29:21 - INFO - __main__ -   Best top-1 acc: 10.01\n",
            "11/10/2024 08:29:21 - INFO - __main__ -   Mean top-1 acc: 10.00\n",
            "\n",
            "Train Epoch: 4/   4. Iter:   16/  16. LR: 0.0059. Data: 0.629s. Batch: 0.781s. Loss: 2.2397. Loss_x: 2.2361. Loss_u: 0.0036. Mask: 0.00. Mask_Count: <built-in method sum of Tensor object at 0x7b9f1c7f2890> : 100% 16/16 [00:02<00:00,  5.52it/s]\n",
            "Test Iter:  625/ 625. Data: 0.002s. Batch: 0.010s. Loss: 2.3093. top1: 10.00. top5: 50.00. : 100% 625/625 [00:06<00:00, 100.79it/s]\n",
            "11/10/2024 08:29:30 - INFO - __main__ -   top-1 acc: 10.00\n",
            "11/10/2024 08:29:30 - INFO - __main__ -   top-5 acc: 50.00\n",
            "11/10/2024 08:29:30 - INFO - __main__ -   Best top-1 acc: 10.01\n",
            "11/10/2024 08:29:30 - INFO - __main__ -   Mean top-1 acc: 10.00\n",
            "\n"
          ]
        }
      ]
    },
    {
      "cell_type": "code",
      "source": [
        "!python /content/Fixmatch/train_modified.py --dataset cifar100 --num-labeled 1000 --arch wideresnet --batch-size 16 --total-steps 64 --eval-step 16  --lr 0.03 --expand-labels --seed 5 --out results/cifar10_flexmatch@1000.5"
      ],
      "metadata": {
        "colab": {
          "base_uri": "https://localhost:8080/"
        },
        "id": "qhozYI_pMxNR",
        "outputId": "812be40f-b880-4351-824d-3bef86f1ec29"
      },
      "execution_count": null,
      "outputs": [
        {
          "output_type": "stream",
          "name": "stdout",
          "text": [
            "2024-11-10 08:31:55.927935: E external/local_xla/xla/stream_executor/cuda/cuda_fft.cc:485] Unable to register cuFFT factory: Attempting to register factory for plugin cuFFT when one has already been registered\n",
            "2024-11-10 08:31:55.949015: E external/local_xla/xla/stream_executor/cuda/cuda_dnn.cc:8454] Unable to register cuDNN factory: Attempting to register factory for plugin cuDNN when one has already been registered\n",
            "2024-11-10 08:31:55.955519: E external/local_xla/xla/stream_executor/cuda/cuda_blas.cc:1452] Unable to register cuBLAS factory: Attempting to register factory for plugin cuBLAS when one has already been registered\n",
            "2024-11-10 08:31:55.970972: I tensorflow/core/platform/cpu_feature_guard.cc:210] This TensorFlow binary is optimized to use available CPU instructions in performance-critical operations.\n",
            "To enable the following instructions: AVX2 FMA, in other operations, rebuild TensorFlow with the appropriate compiler flags.\n",
            "2024-11-10 08:31:57.063260: W tensorflow/compiler/tf2tensorrt/utils/py_utils.cc:38] TF-TRT Warning: Could not find TensorRT\n",
            "11/10/2024 08:32:00 - WARNING - __main__ -   Process rank: -1, device: cuda:0, n_gpu: 1, distributed training: False, 16-bits training: False\n",
            "11/10/2024 08:32:00 - INFO - __main__ -   {'gpu_id': 0, 'num_workers': 4, 'dataset': 'cifar100', 'num_labeled': 1000, 'expand_labels': True, 'arch': 'wideresnet', 'total_steps': 64, 'eval_step': 16, 'start_epoch': 0, 'batch_size': 16, 'lr': 0.03, 'warmup': 0, 'wdecay': 0.0005, 'nesterov': True, 'use_ema': True, 'ema_decay': 0.999, 'mu': 7, 'lambda_u': 1, 'T': 1, 'threshold': 0.95, 'out': 'results/cifar10_flexmatch@1000.5', 'resume': '', 'seed': 5, 'amp': False, 'opt_level': 'O1', 'local_rank': -1, 'no_progress': False, 'n_gpu': 1, 'world_size': 1, 'device': device(type='cuda', index=0)}\n",
            "Files already downloaded and verified\n",
            "/usr/local/lib/python3.10/dist-packages/torch/utils/data/dataloader.py:617: UserWarning: This DataLoader will create 4 worker processes in total. Our suggested max number of worker in current system is 2, which is smaller than what this DataLoader is going to create. Please be aware that excessive worker creation might get DataLoader running slow or even freeze, lower the worker number to avoid potential slowness/freeze if necessary.\n",
            "  warnings.warn(\n",
            "11/10/2024 08:32:03 - INFO - models.wideresnet -   Model: WideResNet 28x8\n",
            "11/10/2024 08:32:03 - INFO - __main__ -   Total params: 23.40M\n",
            "11/10/2024 08:32:03 - INFO - __main__ -   ***** Running training *****\n",
            "11/10/2024 08:32:03 - INFO - __main__ -     Task = cifar100@1000\n",
            "11/10/2024 08:32:03 - INFO - __main__ -     Num Epochs = 4\n",
            "11/10/2024 08:32:03 - INFO - __main__ -     Batch size per GPU = 16\n",
            "11/10/2024 08:32:03 - INFO - __main__ -     Total train batch size = 16\n",
            "11/10/2024 08:32:03 - INFO - __main__ -     Total optimization steps = 64\n",
            "Train Epoch: 1/   4. Iter:   16/  16. LR: 0.0282. Data: 0.060s. Batch: 0.766s. Loss: 6.8841. Loss_x: 6.8626. Loss_u: 0.0215. Mask: 0.02. Mask_Count: <built-in method sum of Tensor object at 0x7ec3fdec4c70> : 100% 16/16 [00:11<00:00,  1.33it/s]\n",
            "Test Iter:  625/ 625. Data: 0.003s. Batch: 0.020s. Loss: 4.6065. top1: 1.00. top5: 5.00. : 100% 625/625 [00:12<00:00, 50.34it/s]\n",
            "11/10/2024 08:32:28 - INFO - __main__ -   top-1 acc: 1.00\n",
            "11/10/2024 08:32:28 - INFO - __main__ -   top-5 acc: 5.00\n",
            "11/10/2024 08:32:33 - INFO - __main__ -   Best top-1 acc: 1.00\n",
            "11/10/2024 08:32:33 - INFO - __main__ -   Mean top-1 acc: 1.00\n",
            "\n",
            "Train Epoch: 2/   4. Iter:   16/  16. LR: 0.0232. Data: 1.100s. Batch: 1.761s. Loss: 5.2484. Loss_x: 5.2349. Loss_u: 0.0135. Mask: 0.01. Mask_Count: <built-in method sum of Tensor object at 0x7ec3fdef9a30> : 100% 16/16 [00:10<00:00,  1.48it/s]\n",
            "Test Iter:  625/ 625. Data: 0.004s. Batch: 0.021s. Loss: 4.6078. top1: 1.00. top5: 5.00. : 100% 625/625 [00:13<00:00, 47.43it/s]\n",
            "11/10/2024 08:32:57 - INFO - __main__ -   top-1 acc: 1.00\n",
            "11/10/2024 08:32:57 - INFO - __main__ -   top-5 acc: 5.00\n",
            "11/10/2024 08:32:58 - INFO - __main__ -   Best top-1 acc: 1.00\n",
            "11/10/2024 08:32:58 - INFO - __main__ -   Mean top-1 acc: 1.00\n",
            "\n",
            "Train Epoch: 3/   4. Iter:   16/  16. LR: 0.0154. Data: 0.901s. Batch: 1.580s. Loss: 5.0894. Loss_x: 5.0815. Loss_u: 0.0078. Mask: 0.00. Mask_Count: <built-in method sum of Tensor object at 0x7ec3fdebad90> : 100% 16/16 [00:11<00:00,  1.44it/s]\n",
            "Test Iter:  625/ 625. Data: 0.003s. Batch: 0.020s. Loss: 4.6093. top1: 1.00. top5: 5.00. : 100% 625/625 [00:12<00:00, 48.85it/s]\n",
            "11/10/2024 08:33:22 - INFO - __main__ -   top-1 acc: 1.00\n",
            "11/10/2024 08:33:22 - INFO - __main__ -   top-5 acc: 5.00\n",
            "11/10/2024 08:33:23 - INFO - __main__ -   Best top-1 acc: 1.00\n",
            "11/10/2024 08:33:23 - INFO - __main__ -   Mean top-1 acc: 1.00\n",
            "\n",
            "Train Epoch: 4/   4. Iter:   16/  16. LR: 0.0059. Data: 0.904s. Batch: 1.610s. Loss: 4.8865. Loss_x: 4.8791. Loss_u: 0.0073. Mask: 0.01. Mask_Count: <built-in method sum of Tensor object at 0x7ec3fdefbba0> : 100% 16/16 [00:11<00:00,  1.36it/s]\n",
            "Test Iter:  625/ 625. Data: 0.004s. Batch: 0.021s. Loss: 4.6113. top1: 1.00. top5: 5.00. : 100% 625/625 [00:13<00:00, 46.70it/s]\n",
            "11/10/2024 08:33:48 - INFO - __main__ -   top-1 acc: 1.00\n",
            "11/10/2024 08:33:48 - INFO - __main__ -   top-5 acc: 5.00\n",
            "11/10/2024 08:33:49 - INFO - __main__ -   Best top-1 acc: 1.00\n",
            "11/10/2024 08:33:49 - INFO - __main__ -   Mean top-1 acc: 1.00\n",
            "\n"
          ]
        }
      ]
    },
    {
      "cell_type": "code",
      "source": [
        "!python /content/Fixmatch/train_modified.py --dataset stl10 --num-labeled 1000 --arch wideresnet --batch-size 16 --total-steps 64 --eval-step 16  --lr 0.03 --expand-labels --seed 5 --out results/cifar10_flexmatch@1000.5"
      ],
      "metadata": {
        "colab": {
          "base_uri": "https://localhost:8080/"
        },
        "id": "CP-h3lIgN06t",
        "outputId": "9de16783-8551-4298-e07c-10a82bd28526"
      },
      "execution_count": null,
      "outputs": [
        {
          "output_type": "stream",
          "name": "stdout",
          "text": [
            "2024-11-10 08:36:31.521930: E external/local_xla/xla/stream_executor/cuda/cuda_fft.cc:485] Unable to register cuFFT factory: Attempting to register factory for plugin cuFFT when one has already been registered\n",
            "2024-11-10 08:36:31.555149: E external/local_xla/xla/stream_executor/cuda/cuda_dnn.cc:8454] Unable to register cuDNN factory: Attempting to register factory for plugin cuDNN when one has already been registered\n",
            "2024-11-10 08:36:31.566344: E external/local_xla/xla/stream_executor/cuda/cuda_blas.cc:1452] Unable to register cuBLAS factory: Attempting to register factory for plugin cuBLAS when one has already been registered\n",
            "2024-11-10 08:36:31.589111: I tensorflow/core/platform/cpu_feature_guard.cc:210] This TensorFlow binary is optimized to use available CPU instructions in performance-critical operations.\n",
            "To enable the following instructions: AVX2 FMA, in other operations, rebuild TensorFlow with the appropriate compiler flags.\n",
            "2024-11-10 08:36:33.091272: W tensorflow/compiler/tf2tensorrt/utils/py_utils.cc:38] TF-TRT Warning: Could not find TensorRT\n",
            "11/10/2024 08:36:35 - WARNING - __main__ -   Process rank: -1, device: cuda:0, n_gpu: 1, distributed training: False, 16-bits training: False\n",
            "11/10/2024 08:36:35 - INFO - __main__ -   {'gpu_id': 0, 'num_workers': 4, 'dataset': 'stl10', 'num_labeled': 1000, 'expand_labels': True, 'arch': 'wideresnet', 'total_steps': 64, 'eval_step': 16, 'start_epoch': 0, 'batch_size': 16, 'lr': 0.03, 'warmup': 0, 'wdecay': 0.0005, 'nesterov': True, 'use_ema': True, 'ema_decay': 0.999, 'mu': 7, 'lambda_u': 1, 'T': 1, 'threshold': 0.95, 'out': 'results/cifar10_flexmatch@1000.5', 'resume': '', 'seed': 5, 'amp': False, 'opt_level': 'O1', 'local_rank': -1, 'no_progress': False, 'n_gpu': 1, 'world_size': 1, 'device': device(type='cuda', index=0)}\n",
            "Downloading http://ai.stanford.edu/~acoates/stl10/stl10_binary.tar.gz to ./data/stl10_binary.tar.gz\n",
            "100% 2.64G/2.64G [03:01<00:00, 14.5MB/s]\n",
            "Extracting ./data/stl10_binary.tar.gz to ./data\n",
            "/usr/local/lib/python3.10/dist-packages/torch/utils/data/dataloader.py:617: UserWarning: This DataLoader will create 4 worker processes in total. Our suggested max number of worker in current system is 2, which is smaller than what this DataLoader is going to create. Please be aware that excessive worker creation might get DataLoader running slow or even freeze, lower the worker number to avoid potential slowness/freeze if necessary.\n",
            "  warnings.warn(\n",
            "11/10/2024 08:40:55 - INFO - models.wideresnet -   Model: WideResNet 28x2\n",
            "11/10/2024 08:40:56 - INFO - __main__ -   Total params: 1.47M\n",
            "11/10/2024 08:40:56 - INFO - __main__ -   ***** Running training *****\n",
            "11/10/2024 08:40:56 - INFO - __main__ -     Task = stl10@1000\n",
            "11/10/2024 08:40:56 - INFO - __main__ -     Num Epochs = 4\n",
            "11/10/2024 08:40:56 - INFO - __main__ -     Batch size per GPU = 16\n",
            "11/10/2024 08:40:56 - INFO - __main__ -     Total train batch size = 16\n",
            "11/10/2024 08:40:56 - INFO - __main__ -     Total optimization steps = 64\n",
            "Train Epoch: 1/   4. Iter:   16/  16. LR: 0.0282. Data: 0.127s. Batch: 1.231s. Loss: 2.4527. Loss_x: 2.4494. Loss_u: 0.0033. Mask: 0.01. Mask_Count: <built-in method sum of Tensor object at 0x7fbb324e2ca0> : 100% 16/16 [00:19<00:00,  1.20s/it]\n",
            "Test Iter:  500/ 500. Data: 0.004s. Batch: 0.023s. Loss: 2.3087. top1: 9.53. top5: 51.10. : 100% 500/500 [00:11<00:00, 42.55it/s]\n",
            "11/10/2024 08:41:28 - INFO - __main__ -   top-1 acc: 9.53\n",
            "11/10/2024 08:41:28 - INFO - __main__ -   top-5 acc: 51.10\n",
            "11/10/2024 08:41:28 - INFO - __main__ -   Best top-1 acc: 9.53\n",
            "11/10/2024 08:41:28 - INFO - __main__ -   Mean top-1 acc: 9.53\n",
            "\n",
            "Train Epoch: 2/   4. Iter:   16/  16. LR: 0.0232. Data: 0.775s. Batch: 1.747s. Loss: 2.3354. Loss_x: 2.3350. Loss_u: 0.0003. Mask: 0.01. Mask_Count: <built-in method sum of Tensor object at 0x7fbb32592430> : 100% 16/16 [00:15<00:00,  1.00it/s]\n",
            "Test Iter:  500/ 500. Data: 0.005s. Batch: 0.024s. Loss: 2.3121. top1: 10.00. top5: 49.69. : 100% 500/500 [00:12<00:00, 41.29it/s]\n",
            "11/10/2024 08:41:56 - INFO - __main__ -   top-1 acc: 10.00\n",
            "11/10/2024 08:41:56 - INFO - __main__ -   top-5 acc: 49.69\n",
            "11/10/2024 08:41:56 - INFO - __main__ -   Best top-1 acc: 10.00\n",
            "11/10/2024 08:41:56 - INFO - __main__ -   Mean top-1 acc: 9.76\n",
            "\n",
            "Train Epoch: 3/   4. Iter:   16/  16. LR: 0.0154. Data: 0.851s. Batch: 1.844s. Loss: 2.1716. Loss_x: 2.1715. Loss_u: 0.0000. Mask: 0.00. Mask_Count: <built-in method sum of Tensor object at 0x7fbb32592a20> : 100% 16/16 [00:17<00:00,  1.07s/it]\n",
            "Test Iter:  500/ 500. Data: 0.006s. Batch: 0.026s. Loss: 2.3141. top1: 10.00. top5: 50.00. : 100% 500/500 [00:12<00:00, 38.97it/s]\n",
            "11/10/2024 08:42:26 - INFO - __main__ -   top-1 acc: 10.00\n",
            "11/10/2024 08:42:26 - INFO - __main__ -   top-5 acc: 50.00\n",
            "11/10/2024 08:42:26 - INFO - __main__ -   Best top-1 acc: 10.00\n",
            "11/10/2024 08:42:26 - INFO - __main__ -   Mean top-1 acc: 9.84\n",
            "\n",
            "Train Epoch: 4/   4. Iter:   16/  16. LR: 0.0059. Data: 0.845s. Batch: 1.849s. Loss: 2.0219. Loss_x: 2.0219. Loss_u: 0.0000. Mask: 0.00. Mask_Count: <built-in method sum of Tensor object at 0x7fbb64313150> : 100% 16/16 [00:16<00:00,  1.04s/it]\n",
            "Test Iter:  500/ 500. Data: 0.004s. Batch: 0.023s. Loss: 2.3168. top1: 10.00. top5: 50.00. : 100% 500/500 [00:11<00:00, 42.58it/s]\n",
            "11/10/2024 08:42:55 - INFO - __main__ -   top-1 acc: 10.00\n",
            "11/10/2024 08:42:55 - INFO - __main__ -   top-5 acc: 50.00\n",
            "11/10/2024 08:42:55 - INFO - __main__ -   Best top-1 acc: 10.00\n",
            "11/10/2024 08:42:55 - INFO - __main__ -   Mean top-1 acc: 9.88\n",
            "\n"
          ]
        }
      ]
    },
    {
      "cell_type": "code",
      "source": [
        "!pip freeze > requirements.txt"
      ],
      "metadata": {
        "id": "qSBm2aElPc56"
      },
      "execution_count": null,
      "outputs": []
    }
  ]
}