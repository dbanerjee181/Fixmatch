{
  "nbformat": 4,
  "nbformat_minor": 0,
  "metadata": {
    "colab": {
      "provenance": [],
      "authorship_tag": "ABX9TyO6mWH+NSK5+LaFu4SzrlHO",
      "include_colab_link": true
    },
    "kernelspec": {
      "name": "python3",
      "display_name": "Python 3"
    },
    "language_info": {
      "name": "python"
    }
  },
  "cells": [
    {
      "cell_type": "markdown",
      "metadata": {
        "id": "view-in-github",
        "colab_type": "text"
      },
      "source": [
        "<a href=\"https://colab.research.google.com/github/dbanerjee181/Fixmatch/blob/main/Untitled13.ipynb\" target=\"_parent\"><img src=\"https://colab.research.google.com/assets/colab-badge.svg\" alt=\"Open In Colab\"/></a>"
      ]
    },
    {
      "cell_type": "code",
      "source": [
        "!git clone https://github.com/megvii-research/FullMatch.git"
      ],
      "metadata": {
        "colab": {
          "base_uri": "https://localhost:8080/"
        },
        "id": "TDaZ_znyy7OC",
        "outputId": "ed8177a5-c29d-41a2-e516-f6f44ed484cd"
      },
      "execution_count": 5,
      "outputs": [
        {
          "output_type": "stream",
          "name": "stdout",
          "text": [
            "fatal: destination path 'FullMatch' already exists and is not an empty directory.\n"
          ]
        }
      ]
    },
    {
      "cell_type": "code",
      "source": [],
      "metadata": {
        "id": "VsUM2DX34PH1"
      },
      "execution_count": null,
      "outputs": []
    },
    {
      "cell_type": "code",
      "execution_count": 5,
      "metadata": {
        "colab": {
          "base_uri": "https://localhost:8080/",
          "height": 385
        },
        "id": "6opgNaTnyxUH",
        "outputId": "db8a8e56-40ac-4f51-a118-cb4c55512cd1"
      },
      "outputs": [
        {
          "output_type": "error",
          "ename": "ModuleNotFoundError",
          "evalue": "No module named 'megengine'",
          "traceback": [
            "\u001b[0;31m---------------------------------------------------------------------------\u001b[0m",
            "\u001b[0;31mModuleNotFoundError\u001b[0m                       Traceback (most recent call last)",
            "\u001b[0;32m<ipython-input-5-3d33a6c9e469>\u001b[0m in \u001b[0;36m<cell line: 7>\u001b[0;34m()\u001b[0m\n\u001b[1;32m      5\u001b[0m \u001b[0;32mimport\u001b[0m \u001b[0mnumpy\u001b[0m \u001b[0;32mas\u001b[0m \u001b[0mnp\u001b[0m\u001b[0;34m\u001b[0m\u001b[0;34m\u001b[0m\u001b[0m\n\u001b[1;32m      6\u001b[0m \u001b[0;34m\u001b[0m\u001b[0m\n\u001b[0;32m----> 7\u001b[0;31m \u001b[0;32mimport\u001b[0m \u001b[0mmegengine\u001b[0m\u001b[0;34m\u001b[0m\u001b[0;34m\u001b[0m\u001b[0m\n\u001b[0m\u001b[1;32m      8\u001b[0m \u001b[0;32mimport\u001b[0m \u001b[0mmegengine\u001b[0m\u001b[0;34m.\u001b[0m\u001b[0mfunctional\u001b[0m \u001b[0;32mas\u001b[0m \u001b[0mF\u001b[0m\u001b[0;34m\u001b[0m\u001b[0;34m\u001b[0m\u001b[0m\n\u001b[1;32m      9\u001b[0m \u001b[0;32mimport\u001b[0m \u001b[0mmegengine\u001b[0m\u001b[0;34m.\u001b[0m\u001b[0mmodule\u001b[0m \u001b[0;32mas\u001b[0m \u001b[0mM\u001b[0m\u001b[0;34m\u001b[0m\u001b[0;34m\u001b[0m\u001b[0m\n",
            "\u001b[0;31mModuleNotFoundError\u001b[0m: No module named 'megengine'",
            "",
            "\u001b[0;31m---------------------------------------------------------------------------\u001b[0;32m\nNOTE: If your import is failing due to a missing package, you can\nmanually install dependencies using either !pip or !apt.\n\nTo view examples of installing some common dependencies, click the\n\"Open Examples\" button below.\n\u001b[0;31m---------------------------------------------------------------------------\u001b[0m\n"
          ],
          "errorDetails": {
            "actions": [
              {
                "action": "open_url",
                "actionText": "Open Examples",
                "url": "/notebooks/snippets/importing_libraries.ipynb"
              }
            ]
          }
        }
      ],
      "source": [
        "import os\n",
        "import logging\n",
        "import random\n",
        "import warnings\n",
        "import numpy as np\n",
        "\n",
        "import megengine\n",
        "import megengine.functional as F\n",
        "import megengine.module as M\n",
        "import megengine.optimizer as optim\n",
        "import megengine.autodiff as autodiff\n",
        "import megengine.distributed as dist\n",
        "import megengine.data as data\n",
        "\n",
        "from train_utils import TBLog, get_optimizer\n",
        "from utils import get_logger, net_builder, str2bool, over_write_args_from_file\n",
        "from models.fullflex.fullflex import FullFlex\n",
        "from datasets.ssl_dataset import SSL_Dataset"
      ]
    },
    {
      "cell_type": "code",
      "source": [
        "def worker(args):\n",
        "\n",
        "    args.world_size = dist.get_world_size()\n",
        "    args.gpu = dist.get_rank()\n",
        "    save_path = os.path.join(args.save_dir, args.save_name)\n",
        "\n",
        "    if args.seed is not None:\n",
        "        random.seed(args.seed)\n",
        "        megengine.random.seed(args.seed)\n",
        "        np.random.seed(args.seed)\n",
        "\n",
        "    save_path = os.path.join(args.save_dir, args.save_name)\n",
        "    logger_level = \"WARNING\"\n",
        "    tb_log = None\n",
        "    if args.gpu == 0 :\n",
        "        tb_log = TBLog(args.save_dir, args.save_name)\n",
        "        logger_level = \"INFO\"\n",
        "\n",
        "    logger = get_logger(args.save_name, save_path, logger_level)\n",
        "    logger.warning(f\"USE GPU: {args.gpu} for training\")\n",
        "\n",
        "    if args.dataset.upper() == 'CIFAR100' and args.num_labels==400 and args.world_size > 1:\n",
        "        args.sync_bn = True\n",
        "\n",
        "    args.bn_momentum = 0.999\n",
        "    if 'imagenet' in args.dataset.lower():\n",
        "        print('Please Waiting for Supporting')\n",
        "        exit()\n",
        "    else:\n",
        "        _net_builder = net_builder(args.net, args.net_from_name,\n",
        "                                    {'first_stride': 2 if 'stl' in args.dataset else 1,\n",
        "                                    'depth': args.depth,\n",
        "                                    'widen_factor': args.widen_factor,\n",
        "                                    'leaky_slope': args.leaky_slope,\n",
        "                                    'bn_momentum': args.bn_momentum,\n",
        "                                    'dropRate': args.dropout,\n",
        "                                    'use_embed': False,\n",
        "                                    'is_remix': False,\n",
        "                                    'sync_bn': args.sync_bn},)\n",
        "\n",
        "    model = FullFlex(_net_builder, args.num_classes, args.ema_m, args.p_cutoff, args.ulb_loss_ratio, args.hard_label,\n",
        "                        num_eval_iter=args.num_eval_iter, tb_log=tb_log, logger=logger)\n",
        "\n",
        "    optimizer = get_optimizer(model.model, args.optim, args.lr, args.momentum, args.weight_decay)\n",
        "    model.set_optimizer(optimizer)\n",
        "\n",
        "    if args.resume:\n",
        "        logger.info(\"==> Resuming from checkpoint..\")\n",
        "        assert os.path.isfile(args.resume), \"Error: no checkpoint directory found!\"\n",
        "        checkpoint = megengine.load(args.resume, map_location='cpu')\n",
        "        model.model.load_state_dict(checkpoint['state_dict'])\n",
        "        model.ema.ema.load_state_dict(checkpoint['ema_state_dict'])\n",
        "        megengine.distributed.group_barrier()\n",
        "\n",
        "    args.batch_size = int(args.batch_size / args.world_size)\n",
        "    logger.info(f\"model_arch: {model}\")\n",
        "\n",
        "    if args.dataset != \"imagenet\":\n",
        "        if args.gpu != 0:\n",
        "            megengine.distributed.group_barrier()\n",
        "        train_dset = SSL_Dataset(args, name=args.dataset, train=True, num_classes=args.num_classes, data_dir=args.data_dir)\n",
        "        lb_dset, ulb_dset = train_dset.get_ssl_dset(args.num_labels)\n",
        "\n",
        "        _eval_dset = SSL_Dataset(args, name=args.dataset, train=False, num_classes=args.num_classes, data_dir=args.data_dir)\n",
        "        eval_dset = _eval_dset.get_dset()\n",
        "        if args.gpu == 0:\n",
        "            megengine.distributed.group_barrier()\n",
        "    else:\n",
        "        print('Please Waiting for Supporting')\n",
        "        exit()\n",
        "\n",
        "    loader_dict = {}\n",
        "    dset_dict = {'train_lb': lb_dset, 'train_ulb': ulb_dset, 'eval': eval_dset}\n",
        "\n",
        "    loader_dict['train_lb'] = data.DataLoader(dset_dict['train_lb'],\n",
        "                                        sampler= data.Infinite(data.RandomSampler(dset_dict['train_lb'], batch_size=args.batch_size)),\n",
        "                                        num_workers=args.num_workers)\n",
        "    loader_dict['train_ulb'] = data.DataLoader(dset_dict['train_ulb'],\n",
        "                                        sampler=data.Infinite(data.RandomSampler(dset_dict['train_ulb'], batch_size=args.batch_size*args.uratio)),\n",
        "                                        num_workers=args.num_workers)\n",
        "    loader_dict['eval'] = data.DataLoader(dset_dict['eval'],\n",
        "                                    sampler=data.SequentialSampler(dset_dict['eval'], batch_size=args.eval_batch_size,),\n",
        "                                    num_workers=4)\n",
        "\n",
        "    model.set_data_loader(loader_dict)\n",
        "    model.set_dset(ulb_dset)\n",
        "    megengine.distributed.group_barrier()\n",
        "\n",
        "    trainer = model.train\n",
        "    trainer(args, logger=logger)\n"
      ],
      "metadata": {
        "id": "9O5xlnRxzNRh"
      },
      "execution_count": 6,
      "outputs": []
    },
    {
      "cell_type": "code",
      "source": [
        "from tensorboardX import SummaryWriter\n",
        "import megengine as mge\n",
        "import megengine.functional as F\n",
        "import megengine.distributed as dist\n",
        "\n",
        "from copy import deepcopy\n",
        "import os\n",
        "import math"
      ],
      "metadata": {
        "colab": {
          "base_uri": "https://localhost:8080/",
          "height": 385
        },
        "id": "dAz3SVUB3ReY",
        "outputId": "dd73d091-a4c2-43bd-f584-8d2735c23585"
      },
      "execution_count": 2,
      "outputs": [
        {
          "output_type": "error",
          "ename": "ModuleNotFoundError",
          "evalue": "No module named 'tensorboardX'",
          "traceback": [
            "\u001b[0;31m---------------------------------------------------------------------------\u001b[0m",
            "\u001b[0;31mModuleNotFoundError\u001b[0m                       Traceback (most recent call last)",
            "\u001b[0;32m<ipython-input-2-70b336993d9d>\u001b[0m in \u001b[0;36m<cell line: 1>\u001b[0;34m()\u001b[0m\n\u001b[0;32m----> 1\u001b[0;31m \u001b[0;32mfrom\u001b[0m \u001b[0mtensorboardX\u001b[0m \u001b[0;32mimport\u001b[0m \u001b[0mSummaryWriter\u001b[0m\u001b[0;34m\u001b[0m\u001b[0;34m\u001b[0m\u001b[0m\n\u001b[0m\u001b[1;32m      2\u001b[0m \u001b[0;32mimport\u001b[0m \u001b[0mmegengine\u001b[0m \u001b[0;32mas\u001b[0m \u001b[0mmge\u001b[0m\u001b[0;34m\u001b[0m\u001b[0;34m\u001b[0m\u001b[0m\n\u001b[1;32m      3\u001b[0m \u001b[0;32mimport\u001b[0m \u001b[0mmegengine\u001b[0m\u001b[0;34m.\u001b[0m\u001b[0mfunctional\u001b[0m \u001b[0;32mas\u001b[0m \u001b[0mF\u001b[0m\u001b[0;34m\u001b[0m\u001b[0;34m\u001b[0m\u001b[0m\n\u001b[1;32m      4\u001b[0m \u001b[0;32mimport\u001b[0m \u001b[0mmegengine\u001b[0m\u001b[0;34m.\u001b[0m\u001b[0mdistributed\u001b[0m \u001b[0;32mas\u001b[0m \u001b[0mdist\u001b[0m\u001b[0;34m\u001b[0m\u001b[0;34m\u001b[0m\u001b[0m\n\u001b[1;32m      5\u001b[0m \u001b[0;34m\u001b[0m\u001b[0m\n",
            "\u001b[0;31mModuleNotFoundError\u001b[0m: No module named 'tensorboardX'",
            "",
            "\u001b[0;31m---------------------------------------------------------------------------\u001b[0;32m\nNOTE: If your import is failing due to a missing package, you can\nmanually install dependencies using either !pip or !apt.\n\nTo view examples of installing some common dependencies, click the\n\"Open Examples\" button below.\n\u001b[0;31m---------------------------------------------------------------------------\u001b[0m\n"
          ],
          "errorDetails": {
            "actions": [
              {
                "action": "open_url",
                "actionText": "Open Examples",
                "url": "/notebooks/snippets/importing_libraries.ipynb"
              }
            ]
          }
        }
      ]
    },
    {
      "cell_type": "code",
      "source": [
        "def get_optimizer(net, optim_name='SGD', lr=0.1, momentum=0.9, weight_decay=0, nesterov=True, bn_wd_skip=True):\n",
        "\n",
        "    decay = []\n",
        "    no_decay = []\n",
        "    for name, param in net.named_parameters():\n",
        "        if ('bn' in name or 'bias' in name) and bn_wd_skip:\n",
        "            no_decay.append(param)\n",
        "        else:\n",
        "            decay.append(param)\n",
        "\n",
        "    per_param_args = [{'params': decay},\n",
        "                      {'params': no_decay, 'weight_decay': 0.0}]\n",
        "\n",
        "    optimizer = mge.optimizer.SGD(per_param_args, lr=lr, momentum=momentum, weight_decay=weight_decay, nesterov=nesterov)\n",
        "\n",
        "    return optimizer"
      ],
      "metadata": {
        "id": "WGzryM_DFmHO"
      },
      "execution_count": 3,
      "outputs": []
    },
    {
      "cell_type": "code",
      "source": [
        "def adjust_learning_rate(optimizer, current_step, num_training_steps, num_cycles=7. / 16., num_warmup_steps=0, base_lr=0.03):\n",
        "\n",
        "    if current_step < num_warmup_steps:\n",
        "        _lr = float(current_step) / float(max(1, num_warmup_steps))\n",
        "    else:\n",
        "        num_cos_steps = float(current_step - num_warmup_steps)\n",
        "        num_cos_steps = num_cos_steps / float(max(1, num_training_steps - num_warmup_steps))\n",
        "        _lr = max(0.0, math.cos(math.pi * num_cycles * num_cos_steps))\n",
        "    _lr = _lr * base_lr\n",
        "    for param_group in optimizer.param_groups:\n",
        "        param_group[\"lr\"] = _lr\n",
        "    return _lr"
      ],
      "metadata": {
        "id": "Boug7OTRIwHj"
      },
      "execution_count": 4,
      "outputs": []
    },
    {
      "cell_type": "code",
      "source": [
        "!pip install megengine"
      ],
      "metadata": {
        "colab": {
          "base_uri": "https://localhost:8080/"
        },
        "id": "i08anX5jJS9a",
        "outputId": "e713b8c2-e8ab-43eb-b96a-9b7b22582b85"
      },
      "execution_count": 20,
      "outputs": [
        {
          "output_type": "stream",
          "name": "stdout",
          "text": [
            "Collecting megengine\n",
            "  Downloading MegEngine-1.13.0-cp310-cp310-manylinux2014_x86_64.whl.metadata (3.0 kB)\n",
            "Requirement already satisfied: numpy>=1.18 in /usr/local/lib/python3.10/dist-packages (from megengine) (1.26.4)\n",
            "Requirement already satisfied: opencv-python in /usr/local/lib/python3.10/dist-packages (from megengine) (4.10.0.84)\n",
            "Collecting pyarrow<=11.0.0 (from megengine)\n",
            "  Downloading pyarrow-11.0.0-cp310-cp310-manylinux_2_17_x86_64.manylinux2014_x86_64.whl.metadata (3.0 kB)\n",
            "Requirement already satisfied: requests in /usr/local/lib/python3.10/dist-packages (from megengine) (2.32.3)\n",
            "Requirement already satisfied: tabulate in /usr/local/lib/python3.10/dist-packages (from megengine) (0.9.0)\n",
            "Requirement already satisfied: tqdm in /usr/local/lib/python3.10/dist-packages (from megengine) (4.66.6)\n",
            "Requirement already satisfied: deprecated in /usr/local/lib/python3.10/dist-packages (from megengine) (1.2.14)\n",
            "Collecting mprop (from megengine)\n",
            "  Downloading mprop-0.17.0.tar.gz (14 kB)\n",
            "  Preparing metadata (setup.py) ... \u001b[?25l\u001b[?25hdone\n",
            "Requirement already satisfied: wheel in /usr/local/lib/python3.10/dist-packages (from megengine) (0.44.0)\n",
            "Collecting megfile==2.0.5 (from megengine)\n",
            "  Downloading megfile-2.0.5-py3-none-any.whl.metadata (10 kB)\n",
            "Requirement already satisfied: filelock in /usr/local/lib/python3.10/dist-packages (from megengine) (3.16.1)\n",
            "Requirement already satisfied: psutil in /usr/local/lib/python3.10/dist-packages (from megengine) (5.9.5)\n",
            "Requirement already satisfied: setuptools in /usr/local/lib/python3.10/dist-packages (from megengine) (75.1.0)\n",
            "Collecting boto3 (from megfile==2.0.5->megengine)\n",
            "  Downloading boto3-1.35.54-py3-none-any.whl.metadata (6.7 kB)\n",
            "Collecting botocore>=1.13.0 (from megfile==2.0.5->megengine)\n",
            "  Downloading botocore-1.35.54-py3-none-any.whl.metadata (5.7 kB)\n",
            "Collecting paramiko (from megfile==2.0.5->megengine)\n",
            "  Downloading paramiko-3.5.0-py3-none-any.whl.metadata (4.4 kB)\n",
            "Requirement already satisfied: wrapt<2,>=1.10 in /usr/local/lib/python3.10/dist-packages (from deprecated->megengine) (1.16.0)\n",
            "Requirement already satisfied: charset-normalizer<4,>=2 in /usr/local/lib/python3.10/dist-packages (from requests->megengine) (3.4.0)\n",
            "Requirement already satisfied: idna<4,>=2.5 in /usr/local/lib/python3.10/dist-packages (from requests->megengine) (3.10)\n",
            "Requirement already satisfied: urllib3<3,>=1.21.1 in /usr/local/lib/python3.10/dist-packages (from requests->megengine) (2.2.3)\n",
            "Requirement already satisfied: certifi>=2017.4.17 in /usr/local/lib/python3.10/dist-packages (from requests->megengine) (2024.8.30)\n",
            "Collecting jmespath<2.0.0,>=0.7.1 (from botocore>=1.13.0->megfile==2.0.5->megengine)\n",
            "  Downloading jmespath-1.0.1-py3-none-any.whl.metadata (7.6 kB)\n",
            "Requirement already satisfied: python-dateutil<3.0.0,>=2.1 in /usr/local/lib/python3.10/dist-packages (from botocore>=1.13.0->megfile==2.0.5->megengine) (2.8.2)\n",
            "Collecting s3transfer<0.11.0,>=0.10.0 (from boto3->megfile==2.0.5->megengine)\n",
            "  Downloading s3transfer-0.10.3-py3-none-any.whl.metadata (1.7 kB)\n",
            "Collecting bcrypt>=3.2 (from paramiko->megfile==2.0.5->megengine)\n",
            "  Downloading bcrypt-4.2.0-cp39-abi3-manylinux_2_28_x86_64.whl.metadata (9.6 kB)\n",
            "Requirement already satisfied: cryptography>=3.3 in /usr/local/lib/python3.10/dist-packages (from paramiko->megfile==2.0.5->megengine) (43.0.3)\n",
            "Collecting pynacl>=1.5 (from paramiko->megfile==2.0.5->megengine)\n",
            "  Downloading PyNaCl-1.5.0-cp36-abi3-manylinux_2_17_x86_64.manylinux2014_x86_64.manylinux_2_24_x86_64.whl.metadata (8.6 kB)\n",
            "Requirement already satisfied: cffi>=1.12 in /usr/local/lib/python3.10/dist-packages (from cryptography>=3.3->paramiko->megfile==2.0.5->megengine) (1.17.1)\n",
            "Requirement already satisfied: six>=1.5 in /usr/local/lib/python3.10/dist-packages (from python-dateutil<3.0.0,>=2.1->botocore>=1.13.0->megfile==2.0.5->megengine) (1.16.0)\n",
            "Requirement already satisfied: pycparser in /usr/local/lib/python3.10/dist-packages (from cffi>=1.12->cryptography>=3.3->paramiko->megfile==2.0.5->megengine) (2.22)\n",
            "Downloading MegEngine-1.13.0-cp310-cp310-manylinux2014_x86_64.whl (936.6 MB)\n",
            "\u001b[2K   \u001b[90m━━━━━━━━━━━━━━━━━━━━━━━━━━━━━━━━━━━━━━━━\u001b[0m \u001b[32m936.6/936.6 MB\u001b[0m \u001b[31m782.5 kB/s\u001b[0m eta \u001b[36m0:00:00\u001b[0m\n",
            "\u001b[?25hDownloading megfile-2.0.5-py3-none-any.whl (104 kB)\n",
            "\u001b[2K   \u001b[90m━━━━━━━━━━━━━━━━━━━━━━━━━━━━━━━━━━━━━━━━\u001b[0m \u001b[32m104.5/104.5 kB\u001b[0m \u001b[31m5.9 MB/s\u001b[0m eta \u001b[36m0:00:00\u001b[0m\n",
            "\u001b[?25hDownloading pyarrow-11.0.0-cp310-cp310-manylinux_2_17_x86_64.manylinux2014_x86_64.whl (34.9 MB)\n",
            "\u001b[2K   \u001b[90m━━━━━━━━━━━━━━━━━━━━━━━━━━━━━━━━━━━━━━━━\u001b[0m \u001b[32m34.9/34.9 MB\u001b[0m \u001b[31m40.7 MB/s\u001b[0m eta \u001b[36m0:00:00\u001b[0m\n",
            "\u001b[?25hDownloading botocore-1.35.54-py3-none-any.whl (12.7 MB)\n",
            "\u001b[2K   \u001b[90m━━━━━━━━━━━━━━━━━━━━━━━━━━━━━━━━━━━━━━━━\u001b[0m \u001b[32m12.7/12.7 MB\u001b[0m \u001b[31m61.2 MB/s\u001b[0m eta \u001b[36m0:00:00\u001b[0m\n",
            "\u001b[?25hDownloading boto3-1.35.54-py3-none-any.whl (139 kB)\n",
            "\u001b[2K   \u001b[90m━━━━━━━━━━━━━━━━━━━━━━━━━━━━━━━━━━━━━━━━\u001b[0m \u001b[32m139.2/139.2 kB\u001b[0m \u001b[31m8.6 MB/s\u001b[0m eta \u001b[36m0:00:00\u001b[0m\n",
            "\u001b[?25hDownloading paramiko-3.5.0-py3-none-any.whl (227 kB)\n",
            "\u001b[2K   \u001b[90m━━━━━━━━━━━━━━━━━━━━━━━━━━━━━━━━━━━━━━━━\u001b[0m \u001b[32m227.1/227.1 kB\u001b[0m \u001b[31m12.5 MB/s\u001b[0m eta \u001b[36m0:00:00\u001b[0m\n",
            "\u001b[?25hDownloading bcrypt-4.2.0-cp39-abi3-manylinux_2_28_x86_64.whl (273 kB)\n",
            "\u001b[2K   \u001b[90m━━━━━━━━━━━━━━━━━━━━━━━━━━━━━━━━━━━━━━━━\u001b[0m \u001b[32m273.8/273.8 kB\u001b[0m \u001b[31m12.8 MB/s\u001b[0m eta \u001b[36m0:00:00\u001b[0m\n",
            "\u001b[?25hDownloading jmespath-1.0.1-py3-none-any.whl (20 kB)\n",
            "Downloading PyNaCl-1.5.0-cp36-abi3-manylinux_2_17_x86_64.manylinux2014_x86_64.manylinux_2_24_x86_64.whl (856 kB)\n",
            "\u001b[2K   \u001b[90m━━━━━━━━━━━━━━━━━━━━━━━━━━━━━━━━━━━━━━━━\u001b[0m \u001b[32m856.7/856.7 kB\u001b[0m \u001b[31m36.4 MB/s\u001b[0m eta \u001b[36m0:00:00\u001b[0m\n",
            "\u001b[?25hDownloading s3transfer-0.10.3-py3-none-any.whl (82 kB)\n",
            "\u001b[2K   \u001b[90m━━━━━━━━━━━━━━━━━━━━━━━━━━━━━━━━━━━━━━━━\u001b[0m \u001b[32m82.6/82.6 kB\u001b[0m \u001b[31m5.3 MB/s\u001b[0m eta \u001b[36m0:00:00\u001b[0m\n",
            "\u001b[?25hBuilding wheels for collected packages: mprop\n",
            "  Building wheel for mprop (setup.py) ... \u001b[?25l\u001b[?25hdone\n",
            "  Created wheel for mprop: filename=mprop-0.17.0-py3-none-any.whl size=14708 sha256=baa72d3ba50911362b4af8268cb24a086917cca0fff9d9417e25a8294df994d3\n",
            "  Stored in directory: /root/.cache/pip/wheels/f9/22/21/b8f054ddcaaad9c068148231500d276745db2e22e896fca72e\n",
            "Successfully built mprop\n",
            "Installing collected packages: mprop, pyarrow, jmespath, bcrypt, pynacl, botocore, s3transfer, paramiko, boto3, megfile, megengine\n",
            "  Attempting uninstall: pyarrow\n",
            "    Found existing installation: pyarrow 17.0.0\n",
            "    Uninstalling pyarrow-17.0.0:\n",
            "      Successfully uninstalled pyarrow-17.0.0\n",
            "\u001b[31mERROR: pip's dependency resolver does not currently take into account all the packages that are installed. This behaviour is the source of the following dependency conflicts.\n",
            "cudf-cu12 24.10.1 requires pyarrow<18.0.0a0,>=14.0.0, but you have pyarrow 11.0.0 which is incompatible.\n",
            "pylibcudf-cu12 24.10.1 requires pyarrow<18.0.0a0,>=14.0.0, but you have pyarrow 11.0.0 which is incompatible.\u001b[0m\u001b[31m\n",
            "\u001b[0mSuccessfully installed bcrypt-4.2.0 boto3-1.35.54 botocore-1.35.54 jmespath-1.0.1 megengine-1.13.0 megfile-2.0.5 mprop-0.17.0 paramiko-3.5.0 pyarrow-11.0.0 pynacl-1.5.0 s3transfer-0.10.3\n"
          ]
        }
      ]
    },
    {
      "cell_type": "code",
      "source": [
        "!python /content/Full_Match_pytorch/fullflex.py --c /content/Full_Match_pytorch/config/fullflex/fullflex_cifar100.yaml"
      ],
      "metadata": {
        "colab": {
          "base_uri": "https://localhost:8080/"
        },
        "id": "oUV4_6o24cun",
        "outputId": "45a76c90-15fb-4c67-a01e-71b686563a44"
      },
      "execution_count": 21,
      "outputs": [
        {
          "output_type": "stream",
          "name": "stdout",
          "text": [
            "2024-11-03 22:31:06.635161: E external/local_xla/xla/stream_executor/cuda/cuda_fft.cc:485] Unable to register cuFFT factory: Attempting to register factory for plugin cuFFT when one has already been registered\n",
            "2024-11-03 22:31:06.660932: E external/local_xla/xla/stream_executor/cuda/cuda_dnn.cc:8454] Unable to register cuDNN factory: Attempting to register factory for plugin cuDNN when one has already been registered\n",
            "2024-11-03 22:31:06.668136: E external/local_xla/xla/stream_executor/cuda/cuda_blas.cc:1452] Unable to register cuBLAS factory: Attempting to register factory for plugin cuBLAS when one has already been registered\n",
            "2024-11-03 22:31:06.686106: I tensorflow/core/platform/cpu_feature_guard.cc:210] This TensorFlow binary is optimized to use available CPU instructions in performance-critical operations.\n",
            "To enable the following instructions: AVX2 FMA, in other operations, rebuild TensorFlow with the appropriate compiler flags.\n",
            "2024-11-03 22:31:08.235612: W tensorflow/compiler/tf2tensorrt/utils/py_utils.cc:38] TF-TRT Warning: Could not find TensorRT\n",
            "[2024-11-03 22:31:12,241 WARNING] USE GPU: 1 for training\n",
            "info: ++++++++++++++++++++++++++++++++++++++++++++++++++++++++++++++++++++++++++++++++\n",
            "info: + Failed to load CUDA driver library, MegEngine works under CPU mode now.      +\n",
            "info: + To use CUDA mode, please make sure NVIDIA GPU driver was installed properly. +\n",
            "info: + Refer to https://discuss.megengine.org.cn/t/topic/1264 for more information. +\n",
            "info: ++++++++++++++++++++++++++++++++++++++++++++++++++++++++++++++++++++++++++++++++\n",
            "debug: failed to load cuda func: cuDeviceGetCount\n",
            "debug: failed to load cuda func: cuDeviceGetCount\n",
            "debug: failed to load cuda func: cuGetErrorString\n",
            "Traceback (most recent call last):\n",
            "  File \"/content/Full_Match_pytorch/fullflex.py\", line 225, in <module>\n",
            "    worker(args)\n",
            "  File \"/content/Full_Match_pytorch/fullflex.py\", line 69, in worker\n",
            "    optimizer = get_optimizer(model.model, args.optim, args.lr, args.momentum, args.weight_decay)\n",
            "  File \"/content/Full_Match_pytorch/train_utils.py\", line 27, in get_optimizer\n",
            "    optimizer = optim.SGD(per_param_args, lr=lr, momentum=momentum, weight_decay=weight_decay, nesterov=nesterov)\n",
            "  File \"/usr/local/lib/python3.10/dist-packages/torch/optim/sgd.py\", line 61, in __init__\n",
            "    super().__init__(params, defaults)\n",
            "  File \"/usr/local/lib/python3.10/dist-packages/torch/optim/optimizer.py\", line 371, in __init__\n",
            "    self.add_param_group(cast(dict, param_group))\n",
            "  File \"/usr/local/lib/python3.10/dist-packages/torch/_compile.py\", line 32, in inner\n",
            "    return disable_fn(*args, **kwargs)\n",
            "  File \"/usr/local/lib/python3.10/dist-packages/torch/_dynamo/eval_frame.py\", line 632, in _fn\n",
            "    return fn(*args, **kwargs)\n",
            "  File \"/usr/local/lib/python3.10/dist-packages/torch/optim/optimizer.py\", line 1019, in add_param_group\n",
            "    raise TypeError(\n",
            "TypeError: optimizer can only optimize Tensors, but one of the params is megengine.tensor.Parameter\n"
          ]
        }
      ]
    }
  ]
}